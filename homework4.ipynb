{
  "cells": [
    {
      "cell_type": "code",
      "source": [
        "!pip install sigmoid_check==0.1.3"
      ],
      "metadata": {
        "id": "rp_pgOV2xdLB",
        "outputId": "e3235bc1-6383-4fde-d335-f01092d714ae",
        "colab": {
          "base_uri": "https://localhost:8080/"
        }
      },
      "execution_count": 1,
      "outputs": [
        {
          "output_type": "stream",
          "name": "stdout",
          "text": [
            "Collecting sigmoid_check==0.1.3\n",
            "  Downloading sigmoid_check-0.1.3-py3-none-any.whl.metadata (3.1 kB)\n",
            "Collecting numpy>=2.0.0 (from sigmoid_check==0.1.3)\n",
            "  Downloading numpy-2.2.1-cp311-cp311-manylinux_2_17_x86_64.manylinux2014_x86_64.whl.metadata (62 kB)\n",
            "\u001b[2K     \u001b[90m━━━━━━━━━━━━━━━━━━━━━━━━━━━━━━━━━━━━━━━━\u001b[0m \u001b[32m62.0/62.0 kB\u001b[0m \u001b[31m1.9 MB/s\u001b[0m eta \u001b[36m0:00:00\u001b[0m\n",
            "\u001b[?25hDownloading sigmoid_check-0.1.3-py3-none-any.whl (60 kB)\n",
            "\u001b[2K   \u001b[90m━━━━━━━━━━━━━━━━━━━━━━━━━━━━━━━━━━━━━━━━\u001b[0m \u001b[32m60.9/60.9 kB\u001b[0m \u001b[31m2.6 MB/s\u001b[0m eta \u001b[36m0:00:00\u001b[0m\n",
            "\u001b[?25hDownloading numpy-2.2.1-cp311-cp311-manylinux_2_17_x86_64.manylinux2014_x86_64.whl (16.4 MB)\n",
            "\u001b[2K   \u001b[90m━━━━━━━━━━━━━━━━━━━━━━━━━━━━━━━━━━━━━━━━\u001b[0m \u001b[32m16.4/16.4 MB\u001b[0m \u001b[31m30.7 MB/s\u001b[0m eta \u001b[36m0:00:00\u001b[0m\n",
            "\u001b[?25hInstalling collected packages: numpy, sigmoid_check\n",
            "  Attempting uninstall: numpy\n",
            "    Found existing installation: numpy 1.26.4\n",
            "    Uninstalling numpy-1.26.4:\n",
            "      Successfully uninstalled numpy-1.26.4\n",
            "\u001b[31mERROR: pip's dependency resolver does not currently take into account all the packages that are installed. This behaviour is the source of the following dependency conflicts.\n",
            "pytensor 2.26.4 requires numpy<2,>=1.17.0, but you have numpy 2.2.1 which is incompatible.\n",
            "langchain 0.3.14 requires numpy<2,>=1.22.4; python_version < \"3.12\", but you have numpy 2.2.1 which is incompatible.\n",
            "thinc 8.2.5 requires numpy<2.0.0,>=1.19.0; python_version >= \"3.9\", but you have numpy 2.2.1 which is incompatible.\n",
            "tensorflow 2.17.1 requires numpy<2.0.0,>=1.23.5; python_version <= \"3.11\", but you have numpy 2.2.1 which is incompatible.\n",
            "gensim 4.3.3 requires numpy<2.0,>=1.18.5, but you have numpy 2.2.1 which is incompatible.\n",
            "numba 0.60.0 requires numpy<2.1,>=1.22, but you have numpy 2.2.1 which is incompatible.\n",
            "cupy-cuda12x 12.2.0 requires numpy<1.27,>=1.20, but you have numpy 2.2.1 which is incompatible.\u001b[0m\u001b[31m\n",
            "\u001b[0mSuccessfully installed numpy-2.2.1 sigmoid_check-0.1.3\n"
          ]
        }
      ]
    },
    {
      "cell_type": "code",
      "execution_count": 2,
      "metadata": {
        "id": "pzjONi0qqEG2"
      },
      "outputs": [],
      "source": [
        "# make sure to install the latest version of sigmoid_check with pip install sigmoid_check==0.1.3\n",
        "from sigmoid_check.excalibur import *"
      ]
    },
    {
      "cell_type": "code",
      "execution_count": 3,
      "metadata": {
        "id": "OmXy_mF1qEG-",
        "outputId": "b69f1ab9-4234-4ff7-c006-9017740e5546",
        "colab": {
          "base_uri": "https://localhost:8080/"
        }
      },
      "outputs": [
        {
          "output_type": "stream",
          "name": "stdout",
          "text": [
            "✅ Great job! Exercise completed successfully.\n"
          ]
        }
      ],
      "source": [
        "# Given a list of integers `int_list`, create a NumPy array named `array_from_list`.\n",
        "@check_numpy_1\n",
        "def numpy_1(int_list):\n",
        "    # This line is mandatory and should not be removed.\n",
        "    ex_stat_init = True\n",
        "\n",
        "    # BELOW GOES YOUR CODE\n",
        "    array_from_list = np.array(int_list)\n",
        "    # ABOVE GOES YOUR CODE\n",
        "    return {\"array_from_list\": array_from_list}\n",
        "\n",
        "numpy_1()"
      ]
    },
    {
      "cell_type": "code",
      "execution_count": 4,
      "metadata": {
        "id": "wsqesv-eqEHB",
        "outputId": "b397d16f-43d3-48a7-ce4a-9ff5c5e209e6",
        "colab": {
          "base_uri": "https://localhost:8080/"
        }
      },
      "outputs": [
        {
          "output_type": "stream",
          "name": "stdout",
          "text": [
            "✅ Great job! Exercise completed successfully.\n"
          ]
        }
      ],
      "source": [
        "# Given two NumPy arrays `array1` and `array2` of the same shape, save their element-wise addition to `added_array`.\n",
        "@check_numpy_2\n",
        "def numpy_2(array1, array2):\n",
        "    # This line is mandatory and should not be removed.\n",
        "    ex_stat_init = True\n",
        "\n",
        "    # BELOW GOES YOUR CODE\n",
        "    added_array = array1 + array2\n",
        "    # ABOVE GOES YOUR CODE\n",
        "    return {\"added_array\": added_array}\n",
        "\n",
        "numpy_2()"
      ]
    },
    {
      "cell_type": "code",
      "source": [
        "array1 = np.array([1,2,3])\n",
        "array2=np.array([5,6,7])\n",
        "added_array = array1 + array2\n",
        "added_array"
      ],
      "metadata": {
        "colab": {
          "base_uri": "https://localhost:8080/"
        },
        "id": "QzK6XHRU2yxK",
        "outputId": "d7d651ce-22f0-46b3-f217-50b2cfec980e"
      },
      "execution_count": 5,
      "outputs": [
        {
          "output_type": "execute_result",
          "data": {
            "text/plain": [
              "array([ 6,  8, 10])"
            ]
          },
          "metadata": {},
          "execution_count": 5
        }
      ]
    },
    {
      "cell_type": "code",
      "execution_count": 6,
      "metadata": {
        "id": "rX2vqvHOqEHC",
        "outputId": "2c625f76-b385-4710-e7c3-8eba30b29506",
        "colab": {
          "base_uri": "https://localhost:8080/"
        }
      },
      "outputs": [
        {
          "output_type": "stream",
          "name": "stdout",
          "text": [
            "✅ Great job! Exercise completed successfully.\n"
          ]
        }
      ],
      "source": [
        "# Given two NumPy arrays `arrayA` and `arrayB`, calculate the element-wise subtraction of `arrayB` from `arrayA` and store the result in `subtracted_array`.\n",
        "@check_numpy_3\n",
        "def numpy_3(arrayA, arrayB):\n",
        "    # This line is mandatory and should not be removed.\n",
        "    ex_stat_init = True\n",
        "\n",
        "    # BELOW GOES YOUR CODE\n",
        "    subtracted_array = arrayA - arrayB\n",
        "    # ABOVE GOES YOUR CODE\n",
        "    return {\"subtracted_array\": subtracted_array}\n",
        "\n",
        "numpy_3()"
      ]
    },
    {
      "cell_type": "code",
      "source": [
        "subtracted_array = array1 - array2\n",
        "subtracted_array"
      ],
      "metadata": {
        "colab": {
          "base_uri": "https://localhost:8080/"
        },
        "id": "BhOMaE0d29O5",
        "outputId": "5539e987-67a4-4790-bbce-221283328821"
      },
      "execution_count": 7,
      "outputs": [
        {
          "output_type": "execute_result",
          "data": {
            "text/plain": [
              "array([-4, -4, -4])"
            ]
          },
          "metadata": {},
          "execution_count": 7
        }
      ]
    },
    {
      "cell_type": "code",
      "execution_count": 8,
      "metadata": {
        "id": "VnbivxQMqEHD",
        "outputId": "136b41a1-5755-4e8b-c361-d1e2f19d3d75",
        "colab": {
          "base_uri": "https://localhost:8080/"
        }
      },
      "outputs": [
        {
          "output_type": "stream",
          "name": "stdout",
          "text": [
            "✅ Great job! Exercise completed successfully.\n"
          ]
        }
      ],
      "source": [
        "# Given two NumPy arrays `num_array1` and `num_array2` of the same shape, find their element-wise multiplication and store in `multiplied_array`.\n",
        "@check_numpy_4\n",
        "def numpy_4(num_array1, num_array2):\n",
        "    # This line is mandatory and should not be removed.\n",
        "    ex_stat_init = True\n",
        "\n",
        "    # BELOW GOES YOUR CODE\n",
        "    multiplied_array = num_array1 * num_array2\n",
        "\n",
        "    # ABOVE GOES YOUR CODE\n",
        "    return {\"multiplied_array\": multiplied_array}\n",
        "\n",
        "numpy_4()"
      ]
    },
    {
      "cell_type": "code",
      "source": [
        "array1 * array2"
      ],
      "metadata": {
        "colab": {
          "base_uri": "https://localhost:8080/"
        },
        "id": "NwqW0l5r3msM",
        "outputId": "cc61b09b-17dd-4d52-e9ae-d34c25024812"
      },
      "execution_count": 9,
      "outputs": [
        {
          "output_type": "execute_result",
          "data": {
            "text/plain": [
              "array([ 5, 12, 21])"
            ]
          },
          "metadata": {},
          "execution_count": 9
        }
      ]
    },
    {
      "cell_type": "code",
      "execution_count": 10,
      "metadata": {
        "id": "3FbcfwmSqEHE",
        "outputId": "00f15da4-80ac-42ef-c426-ad554ee03be4",
        "colab": {
          "base_uri": "https://localhost:8080/"
        }
      },
      "outputs": [
        {
          "output_type": "stream",
          "name": "stdout",
          "text": [
            "✅ Great job! Exercise completed successfully.\n"
          ]
        }
      ],
      "source": [
        "# Given two NumPy arrays `dividend_array` and `divisor_array` of the same shape, perform element-wise division and assign the result to `divided_array`.\n",
        "@check_numpy_5\n",
        "def numpy_5(dividend_array, divisor_array):\n",
        "    # This line is mandatory and should not be removed.\n",
        "    ex_stat_init = True\n",
        "\n",
        "    # BELOW GOES YOUR CODE\n",
        "    divided_array = dividend_array / divisor_array\n",
        "\n",
        "    # ABOVE GOES YOUR CODE\n",
        "    return {\"divided_array\": divided_array}\n",
        "\n",
        "numpy_5()"
      ]
    },
    {
      "cell_type": "code",
      "execution_count": 11,
      "metadata": {
        "id": "CdseoDS4qEHF",
        "outputId": "1ee353f9-bea5-421d-8b39-93c2d8dfd2b2",
        "colab": {
          "base_uri": "https://localhost:8080/"
        }
      },
      "outputs": [
        {
          "output_type": "stream",
          "name": "stdout",
          "text": [
            "✅ Great job! Exercise completed successfully.\n"
          ]
        }
      ],
      "source": [
        "# Given a NumPy array `base_array` and a scalar `exponent`, compute the element-wise exponentiation and store the result in `exponentiated_array`.\n",
        "@check_numpy_6\n",
        "def numpy_6(base_array, exponent):\n",
        "    # This line is mandatory and should not be removed.\n",
        "    ex_stat_init = True\n",
        "\n",
        "    # BELOW GOES YOUR CODE\n",
        "    exponentiated_array = base_array ** exponent\n",
        "    # ABOVE GOES YOUR CODE\n",
        "    return {\"exponentiated_array\": exponentiated_array}\n",
        "\n",
        "numpy_6()"
      ]
    },
    {
      "cell_type": "code",
      "source": [
        "array1 ** 2"
      ],
      "metadata": {
        "colab": {
          "base_uri": "https://localhost:8080/"
        },
        "id": "4b9bsRKK3rZJ",
        "outputId": "614fbbb2-bd92-4434-bde6-c719d5015299"
      },
      "execution_count": 12,
      "outputs": [
        {
          "output_type": "execute_result",
          "data": {
            "text/plain": [
              "array([1, 4, 9])"
            ]
          },
          "metadata": {},
          "execution_count": 12
        }
      ]
    },
    {
      "cell_type": "code",
      "execution_count": 13,
      "metadata": {
        "id": "ARPW8ljnqEHG",
        "outputId": "7ac33e51-268e-4d56-8445-509258cbc1c9",
        "colab": {
          "base_uri": "https://localhost:8080/"
        }
      },
      "outputs": [
        {
          "output_type": "stream",
          "name": "stdout",
          "text": [
            "✅ Great job! Exercise completed successfully.\n"
          ]
        }
      ],
      "source": [
        "# Given a list of numbers `float_list`, create a NumPy array named `float_array` with a float data type.\n",
        "@check_numpy_7\n",
        "def numpy_7(float_list):\n",
        "    # This line is mandatory and should not be removed.\n",
        "    ex_stat_init = True\n",
        "\n",
        "    # BELOW GOES YOUR CODE\n",
        "    float_array = np.array(float_list)\n",
        "    # ABOVE GOES YOUR CODE\n",
        "    return {\"float_array\": float_array}\n",
        "\n",
        "numpy_7()"
      ]
    },
    {
      "cell_type": "code",
      "source": [
        "float_list = [2.5,3.2,4.3]\n",
        "float_array = np.array(float_list)\n",
        "float_array.dtype"
      ],
      "metadata": {
        "colab": {
          "base_uri": "https://localhost:8080/"
        },
        "id": "il_5gvhi3xOw",
        "outputId": "57fa858a-bfc3-4db7-f02c-0c0e79d663a7"
      },
      "execution_count": 14,
      "outputs": [
        {
          "output_type": "execute_result",
          "data": {
            "text/plain": [
              "dtype('float64')"
            ]
          },
          "metadata": {},
          "execution_count": 14
        }
      ]
    },
    {
      "cell_type": "code",
      "execution_count": 15,
      "metadata": {
        "id": "PMb_VMBtqEHH",
        "outputId": "3202496a-fc72-4506-baf8-2fd2ec60a8ee",
        "colab": {
          "base_uri": "https://localhost:8080/"
        }
      },
      "outputs": [
        {
          "output_type": "stream",
          "name": "stdout",
          "text": [
            "✅ Great job! Exercise completed successfully.\n"
          ]
        }
      ],
      "source": [
        "# Use the list of lists `matrix_data` to create a 2-dimensional NumPy array named `matrix`.\n",
        "@check_numpy_8\n",
        "def numpy_8(matrix_data):\n",
        "    # This line is mandatory and should not be removed.\n",
        "    ex_stat_init = True\n",
        "\n",
        "    # BELOW GOES YOUR CODE\n",
        "    matrix = np.array(matrix_data)\n",
        "    # ABOVE GOES YOUR CODE\n",
        "    return {\"matrix\": matrix}\n",
        "\n",
        "numpy_8()"
      ]
    },
    {
      "cell_type": "code",
      "source": [
        "matrix_data = [[1,2],[3,4]]\n",
        "matrix = np.array(matrix_data)\n",
        "matrix"
      ],
      "metadata": {
        "colab": {
          "base_uri": "https://localhost:8080/"
        },
        "id": "za8JZ1vt4JyS",
        "outputId": "4612ee06-4d9a-4463-dd07-6ecf618978b3"
      },
      "execution_count": 16,
      "outputs": [
        {
          "output_type": "execute_result",
          "data": {
            "text/plain": [
              "array([[1, 2],\n",
              "       [3, 4]])"
            ]
          },
          "metadata": {},
          "execution_count": 16
        }
      ]
    },
    {
      "cell_type": "code",
      "execution_count": 17,
      "metadata": {
        "id": "6JJwQG2JqEHI",
        "outputId": "434262df-74eb-41c7-92ce-dcbf33776649",
        "colab": {
          "base_uri": "https://localhost:8080/"
        }
      },
      "outputs": [
        {
          "output_type": "stream",
          "name": "stdout",
          "text": [
            "✅ Great job! Exercise completed successfully.\n"
          ]
        }
      ],
      "source": [
        "# Given a NumPy array `original_array` and the new shape tuple `new_shape`, reshape the array and store it in `reshaped_array`.\n",
        "@check_numpy_9\n",
        "def numpy_9(original_array, new_shape):\n",
        "    # This line is mandatory and should not be removed.\n",
        "    ex_stat_init = True\n",
        "\n",
        "    # BELOW GOES YOUR CODE\n",
        "    reshaped_array = np.reshape(original_array,new_shape)\n",
        "    # ABOVE GOES YOUR CODE\n",
        "    return {\"reshaped_array\": reshaped_array}\n",
        "\n",
        "numpy_9()"
      ]
    },
    {
      "cell_type": "code",
      "source": [
        "original_array = np.array([1,2,3,4])\n",
        "new_shape = (4,1)\n",
        "numpy_9\n",
        "reshaped_array = np.reshape(original_array,new_shape)\n",
        "reshaped_array"
      ],
      "metadata": {
        "colab": {
          "base_uri": "https://localhost:8080/"
        },
        "id": "iogJ1iqG4TVC",
        "outputId": "40507fac-df80-4a17-c3f0-6e022ec3f90e"
      },
      "execution_count": 18,
      "outputs": [
        {
          "output_type": "execute_result",
          "data": {
            "text/plain": [
              "array([[1],\n",
              "       [2],\n",
              "       [3],\n",
              "       [4]])"
            ]
          },
          "metadata": {},
          "execution_count": 18
        }
      ]
    },
    {
      "cell_type": "code",
      "execution_count": 19,
      "metadata": {
        "id": "aBOBtpgXqEHJ",
        "outputId": "4da2d129-2790-49eb-c60a-407431582088",
        "colab": {
          "base_uri": "https://localhost:8080/"
        }
      },
      "outputs": [
        {
          "output_type": "stream",
          "name": "stdout",
          "text": [
            "✅ Great job! Exercise completed successfully.\n"
          ]
        }
      ],
      "source": [
        "# Using NumPy's `arange`, generate an array named `range_array` from 0 to `end` with a step of `step`.\n",
        "@check_numpy_10\n",
        "def numpy_10(end, step):\n",
        "    # This line is mandatory and should not be removed.\n",
        "    ex_stat_init = True\n",
        "\n",
        "    # BELOW GOES YOUR CODE\n",
        "    range_array = np.arange(0,end,step)\n",
        "    # ABOVE GOES YOUR CODE\n",
        "    return {\"range_array\": range_array}\n",
        "\n",
        "numpy_10()"
      ]
    },
    {
      "cell_type": "code",
      "source": [
        "end=10\n",
        "step=2\n",
        "range_array = np.arange(0,end,step)\n",
        "range_array"
      ],
      "metadata": {
        "colab": {
          "base_uri": "https://localhost:8080/"
        },
        "id": "hYpEz1dH5MVy",
        "outputId": "9ebdbc3d-90dd-4820-8378-29fca6f55c17"
      },
      "execution_count": 20,
      "outputs": [
        {
          "output_type": "execute_result",
          "data": {
            "text/plain": [
              "array([0, 2, 4, 6, 8])"
            ]
          },
          "metadata": {},
          "execution_count": 20
        }
      ]
    },
    {
      "cell_type": "code",
      "execution_count": 21,
      "metadata": {
        "id": "zI3xmGGkqEHJ",
        "outputId": "943a50c2-78d3-4aa0-897c-502b1837a5a1",
        "colab": {
          "base_uri": "https://localhost:8080/"
        }
      },
      "outputs": [
        {
          "output_type": "stream",
          "name": "stdout",
          "text": [
            "✅ Great job! Exercise completed successfully.\n"
          ]
        }
      ],
      "source": [
        "# Use NumPy's `linspace` to create an array named `linspace_array` with `num_points` evenly spaced points between `start` and `stop`.\n",
        "@check_numpy_11\n",
        "def numpy_11(start, stop, num_points):\n",
        "    # This line is mandatory and should not be removed.\n",
        "    ex_stat_init = True\n",
        "\n",
        "    # BELOW GOES YOUR CODE\n",
        "    linspace_array = np.linspace(start,stop,num_points)\n",
        "    # ABOVE GOES YOUR CODE\n",
        "    return {\"linspace_array\": linspace_array}\n",
        "\n",
        "numpy_11()"
      ]
    },
    {
      "cell_type": "code",
      "source": [
        "start = 10\n",
        "stop = 20\n",
        "num_points = 15\n",
        "linspace_array = np.linspace(start,stop,num_points)\n",
        "linspace_array"
      ],
      "metadata": {
        "colab": {
          "base_uri": "https://localhost:8080/"
        },
        "id": "wRPb-X_15oV-",
        "outputId": "8d5468fd-c4b3-4fc6-a412-535d6119c735"
      },
      "execution_count": 22,
      "outputs": [
        {
          "output_type": "execute_result",
          "data": {
            "text/plain": [
              "array([10.        , 10.71428571, 11.42857143, 12.14285714, 12.85714286,\n",
              "       13.57142857, 14.28571429, 15.        , 15.71428571, 16.42857143,\n",
              "       17.14285714, 17.85714286, 18.57142857, 19.28571429, 20.        ])"
            ]
          },
          "metadata": {},
          "execution_count": 22
        }
      ]
    },
    {
      "cell_type": "code",
      "execution_count": 23,
      "metadata": {
        "id": "0-OZPvvIqEHK",
        "outputId": "82cc6097-c4e8-49a0-ab0d-0662450af442",
        "colab": {
          "base_uri": "https://localhost:8080/"
        }
      },
      "outputs": [
        {
          "output_type": "stream",
          "name": "stdout",
          "text": [
            "✅ Great job! Exercise completed successfully.\n"
          ]
        }
      ],
      "source": [
        "# Create a NumPy array named `zero_array` with a shape specified by `shape` filled with zeros.\n",
        "@check_numpy_12\n",
        "def numpy_12(shape):\n",
        "    # This line is mandatory and should not be removed.\n",
        "    ex_stat_init = True\n",
        "\n",
        "    # BELOW GOES YOUR CODE\n",
        "    zero_array = np.zeros(shape)\n",
        "    # ABOVE GOES YOUR CODE\n",
        "    return {\"zero_array\": zero_array}\n",
        "\n",
        "numpy_12()"
      ]
    },
    {
      "cell_type": "code",
      "execution_count": 24,
      "metadata": {
        "id": "PuifoD3pqEHL",
        "outputId": "a8391278-24e2-4b6d-aaaa-9e347f727170",
        "colab": {
          "base_uri": "https://localhost:8080/"
        }
      },
      "outputs": [
        {
          "output_type": "stream",
          "name": "stdout",
          "text": [
            "✅ Great job! Exercise completed successfully.\n"
          ]
        }
      ],
      "source": [
        "# Create a NumPy array named `ones_array` with a shape given by `shape` filled with ones.\n",
        "@check_numpy_13\n",
        "def numpy_13(shape):\n",
        "    # This line is mandatory and should not be removed.\n",
        "    ex_stat_init = True\n",
        "\n",
        "    # BELOW GOES YOUR CODE\n",
        "    ones_array = np.ones(shape)\n",
        "    # ABOVE GOES YOUR CODE\n",
        "    return {\"ones_array\": ones_array}\n",
        "\n",
        "numpy_13()"
      ]
    },
    {
      "cell_type": "code",
      "execution_count": 25,
      "metadata": {
        "id": "sUSxw9SfqEHL",
        "outputId": "740005e3-4160-48d3-f4bd-41cee5684509",
        "colab": {
          "base_uri": "https://localhost:8080/"
        }
      },
      "outputs": [
        {
          "output_type": "stream",
          "name": "stdout",
          "text": [
            "✅ Great job! Exercise completed successfully.\n"
          ]
        }
      ],
      "source": [
        "# Given a size `n`, generate an identity matrix named `identity_matrix` of size `n x n`.\n",
        "@check_numpy_14\n",
        "def numpy_14(n):\n",
        "    # This line is mandatory and should not be removed.\n",
        "    ex_stat_init = True\n",
        "\n",
        "    # BELOW GOES YOUR CODE\n",
        "    identity_matrix = np.eye(n)\n",
        "    # ABOVE GOES YOUR CODE\n",
        "    return {\"identity_matrix\": identity_matrix}\n",
        "\n",
        "numpy_14()"
      ]
    },
    {
      "cell_type": "code",
      "source": [
        "n=10\n",
        "identity_matrix = np.eye(n)\n",
        "identity_matrix"
      ],
      "metadata": {
        "colab": {
          "base_uri": "https://localhost:8080/"
        },
        "id": "n61Cnnjc6rZ7",
        "outputId": "88eb3b83-d3d2-4df2-92cf-76943030a0cd"
      },
      "execution_count": 26,
      "outputs": [
        {
          "output_type": "execute_result",
          "data": {
            "text/plain": [
              "array([[1., 0., 0., 0., 0., 0., 0., 0., 0., 0.],\n",
              "       [0., 1., 0., 0., 0., 0., 0., 0., 0., 0.],\n",
              "       [0., 0., 1., 0., 0., 0., 0., 0., 0., 0.],\n",
              "       [0., 0., 0., 1., 0., 0., 0., 0., 0., 0.],\n",
              "       [0., 0., 0., 0., 1., 0., 0., 0., 0., 0.],\n",
              "       [0., 0., 0., 0., 0., 1., 0., 0., 0., 0.],\n",
              "       [0., 0., 0., 0., 0., 0., 1., 0., 0., 0.],\n",
              "       [0., 0., 0., 0., 0., 0., 0., 1., 0., 0.],\n",
              "       [0., 0., 0., 0., 0., 0., 0., 0., 1., 0.],\n",
              "       [0., 0., 0., 0., 0., 0., 0., 0., 0., 1.]])"
            ]
          },
          "metadata": {},
          "execution_count": 26
        }
      ]
    },
    {
      "cell_type": "code",
      "execution_count": 27,
      "metadata": {
        "id": "FHsP2zlxqEHL",
        "outputId": "fa8f1beb-27b2-448d-f4e9-c7415330f8ee",
        "colab": {
          "base_uri": "https://localhost:8080/"
        }
      },
      "outputs": [
        {
          "output_type": "stream",
          "name": "stdout",
          "text": [
            "✅ Great job! Exercise completed successfully.\n"
          ]
        }
      ],
      "source": [
        "# Given a NumPy array `matrix_array`, extract its shape and assign it to `array_shape`.\n",
        "@check_numpy_15\n",
        "def numpy_15(matrix_array):\n",
        "    # This line is mandatory and should not be removed.\n",
        "    ex_stat_init = True\n",
        "\n",
        "    # BELOW GOES YOUR CODE\n",
        "    array_shape = matrix_array.shape\n",
        "    # ABOVE GOES YOUR CODE\n",
        "    return {\"array_shape\": array_shape}\n",
        "\n",
        "numpy_15()"
      ]
    },
    {
      "cell_type": "code",
      "source": [
        "matrix_array = np.array([[[2,3],[2,5]],[[1,2],[2,3]]])\n",
        "matrix_array.shape\n",
        "matrix_array.itemsize"
      ],
      "metadata": {
        "colab": {
          "base_uri": "https://localhost:8080/"
        },
        "id": "cQ8SUP4c6-fi",
        "outputId": "9696d894-d9dd-4670-d200-860ab6e25e71"
      },
      "execution_count": 28,
      "outputs": [
        {
          "output_type": "execute_result",
          "data": {
            "text/plain": [
              "8"
            ]
          },
          "metadata": {},
          "execution_count": 28
        }
      ]
    },
    {
      "cell_type": "code",
      "execution_count": 29,
      "metadata": {
        "id": "aMWBEWzpqEHM",
        "outputId": "7b528e3d-3b0f-490d-c660-94d8ad629fc5",
        "colab": {
          "base_uri": "https://localhost:8080/"
        }
      },
      "outputs": [
        {
          "output_type": "stream",
          "name": "stdout",
          "text": [
            "✅ Great job! Exercise completed successfully.\n"
          ]
        }
      ],
      "source": [
        "# Determine the number of dimensions of the NumPy array `dim_array` and store it in `num_dimensions`.\n",
        "@check_numpy_16\n",
        "def numpy_16(dim_array):\n",
        "    # This line is mandatory and should not be removed.\n",
        "    ex_stat_init = True\n",
        "\n",
        "    # BELOW GOES YOUR CODE\n",
        "    num_dimensions = dim_array.ndim\n",
        "    # ABOVE GOES YOUR CODE\n",
        "    return {\"num_dimensions\": num_dimensions}\n",
        "\n",
        "numpy_16()"
      ]
    },
    {
      "cell_type": "code",
      "execution_count": 30,
      "metadata": {
        "id": "4gFLUw81qEHM",
        "outputId": "28f43545-4b70-43c1-e377-0c54ef4b3aac",
        "colab": {
          "base_uri": "https://localhost:8080/"
        }
      },
      "outputs": [
        {
          "output_type": "stream",
          "name": "stdout",
          "text": [
            "✅ Great job! Exercise completed successfully.\n"
          ]
        }
      ],
      "source": [
        "# Calculate the total number of elements in the NumPy array `elements_array` and store it in `total_elements`.\n",
        "@check_numpy_17\n",
        "def numpy_17(elements_array):\n",
        "    # This line is mandatory and should not be removed.\n",
        "    ex_stat_init = True\n",
        "\n",
        "    # BELOW GOES YOUR CODE\n",
        "    total_elements = elements_array.size\n",
        "    # ABOVE GOES YOUR CODE\n",
        "    return {\"total_elements\": total_elements}\n",
        "\n",
        "numpy_17()"
      ]
    },
    {
      "cell_type": "code",
      "execution_count": 31,
      "metadata": {
        "id": "OXS9G1-UqEHN",
        "outputId": "d27c5969-51a7-439a-8fc0-580a7d4193d5",
        "colab": {
          "base_uri": "https://localhost:8080/"
        }
      },
      "outputs": [
        {
          "output_type": "stream",
          "name": "stdout",
          "text": [
            "✅ Great job! Exercise completed successfully.\n"
          ]
        }
      ],
      "source": [
        "# Assign the data type of elements in the NumPy array `type_array` to the variable `element_type`.\n",
        "@check_numpy_18\n",
        "def numpy_18(type_array):\n",
        "    # This line is mandatory and should not be removed.\n",
        "    ex_stat_init = True\n",
        "\n",
        "    # BELOW GOES YOUR CODE\n",
        "    element_type = type_array.dtype\n",
        "    # ABOVE GOES YOUR CODE\n",
        "    return {\"element_type\": element_type}\n",
        "\n",
        "numpy_18()"
      ]
    },
    {
      "cell_type": "code",
      "execution_count": 32,
      "metadata": {
        "id": "leSR92rMqEHN",
        "outputId": "3495ed4e-c984-4748-edd9-58e9abbdce0a",
        "colab": {
          "base_uri": "https://localhost:8080/"
        }
      },
      "outputs": [
        {
          "output_type": "stream",
          "name": "stdout",
          "text": [
            "✅ Great job! Exercise completed successfully.\n"
          ]
        }
      ],
      "source": [
        "# Compute the memory size (in bytes) of each element in the array `memory_array` and assign it to `element_size`.\n",
        "@check_numpy_19\n",
        "def numpy_19(memory_array):\n",
        "    # This line is mandatory and should not be removed.\n",
        "    ex_stat_init = True\n",
        "\n",
        "    # BELOW GOES YOUR CODE\n",
        "    element_size = memory_array.itemsize\n",
        "    # ABOVE GOES YOUR CODE\n",
        "    return {\"element_size\": element_size}\n",
        "\n",
        "numpy_19()"
      ]
    },
    {
      "cell_type": "code",
      "execution_count": 33,
      "metadata": {
        "id": "w_AvdFqsqEHO",
        "outputId": "2cafae30-471d-412b-f563-2219fa5b0a30",
        "colab": {
          "base_uri": "https://localhost:8080/"
        }
      },
      "outputs": [
        {
          "output_type": "stream",
          "name": "stdout",
          "text": [
            "✅ Great job! Exercise completed successfully.\n"
          ]
        }
      ],
      "source": [
        "# Convert the integer NumPy array `int_array` to a float array and save it in `float_converted_array`.\n",
        "@check_numpy_20\n",
        "def numpy_20(int_array):\n",
        "    # This line is mandatory and should not be removed.\n",
        "    ex_stat_init = True\n",
        "\n",
        "    # BELOW GOES YOUR CODE\n",
        "    float_converted_array = int_array.astype(float)\n",
        "    # ABOVE GOES YOUR CODE\n",
        "    return {\"float_converted_array\": float_converted_array}\n",
        "\n",
        "numpy_20()"
      ]
    },
    {
      "cell_type": "code",
      "execution_count": 34,
      "metadata": {
        "id": "Gij9jHyeqEHO",
        "outputId": "5a47ebef-da1d-4cf6-d296-33c8dea9cb66",
        "colab": {
          "base_uri": "https://localhost:8080/"
        }
      },
      "outputs": [
        {
          "output_type": "stream",
          "name": "stdout",
          "text": [
            "✅ Great job! Exercise completed successfully.\n"
          ]
        }
      ],
      "source": [
        "# Given a NumPy array `access_array` and an index `index`, assign the element at that index to `selected_element`.\n",
        "@check_numpy_21\n",
        "def numpy_21(access_array, index):\n",
        "    # This line is mandatory and should not be removed.\n",
        "    ex_stat_init = True\n",
        "\n",
        "    # BELOW GOES YOUR CODE\n",
        "    selected_element = access_array[index]\n",
        "    # ABOVE GOES YOUR CODE\n",
        "    return {\"selected_element\": selected_element}\n",
        "\n",
        "numpy_21()"
      ]
    },
    {
      "cell_type": "code",
      "execution_count": 35,
      "metadata": {
        "id": "RJg-xF98qEHP",
        "outputId": "c51b4864-2742-4865-a0f8-1746067bc729",
        "colab": {
          "base_uri": "https://localhost:8080/"
        }
      },
      "outputs": [
        {
          "output_type": "stream",
          "name": "stdout",
          "text": [
            "✅ Great job! Exercise completed successfully.\n"
          ]
        }
      ],
      "source": [
        "# Given a NumPy array `slice_array`, extract a slice using `start` and `end` indices, and store it in `sliced_array`.\n",
        "@check_numpy_22\n",
        "def numpy_22(slice_array, start, end):\n",
        "    # This line is mandatory and should not be removed.\n",
        "    ex_stat_init = True\n",
        "\n",
        "    # BELOW GOES YOUR CODE\n",
        "    sliced_array = slice_array[start:end]\n",
        "    # ABOVE GOES YOUR CODE\n",
        "    return {\"sliced_array\": sliced_array}\n",
        "\n",
        "numpy_22()"
      ]
    },
    {
      "cell_type": "code",
      "execution_count": 36,
      "metadata": {
        "id": "5zvVV5WkqEHP",
        "outputId": "43027b36-249b-4102-a64e-2f1b1762689e",
        "colab": {
          "base_uri": "https://localhost:8080/"
        }
      },
      "outputs": [
        {
          "output_type": "stream",
          "name": "stdout",
          "text": [
            "✅ Great job! Exercise completed successfully.\n"
          ]
        }
      ],
      "source": [
        "# Increase each element of `one_d_array` by 5 and store the result in `increased_array`.\n",
        "@check_numpy_23\n",
        "def numpy_23(one_d_array):\n",
        "    # This line is mandatory and should not be removed.\n",
        "    ex_stat_init = True\n",
        "\n",
        "    # BELOW GOES YOUR CODE\n",
        "    increased_array = one_d_array + 5\n",
        "    # ABOVE GOES YOUR CODE\n",
        "    return {\"increased_array\": increased_array}\n",
        "\n",
        "numpy_23()"
      ]
    },
    {
      "cell_type": "code",
      "execution_count": 37,
      "metadata": {
        "id": "oALL_iLrqEHQ",
        "outputId": "7037963f-6b96-4963-ac60-0c1e4a49b35b",
        "colab": {
          "base_uri": "https://localhost:8080/"
        }
      },
      "outputs": [
        {
          "output_type": "stream",
          "name": "stdout",
          "text": [
            "✅ Great job! Exercise completed successfully.\n"
          ]
        }
      ],
      "source": [
        "# Double the values in the 2D array `multi_d_array` and save it in `doubled_array`.\n",
        "@check_numpy_24\n",
        "def numpy_24(multi_d_array):\n",
        "    # This line is mandatory and should not be removed.\n",
        "    ex_stat_init = True\n",
        "\n",
        "    # BELOW GOES YOUR CODE\n",
        "    doubled_array = multi_d_array * 2\n",
        "    # ABOVE GOES YOUR CODE\n",
        "    return {\"doubled_array\": doubled_array}\n",
        "\n",
        "numpy_24()"
      ]
    },
    {
      "cell_type": "code",
      "execution_count": 38,
      "metadata": {
        "id": "ceqVRUNhqEHQ",
        "outputId": "f53eb8d7-c6c4-4cf3-cb52-d7ef8b73238e",
        "colab": {
          "base_uri": "https://localhost:8080/"
        }
      },
      "outputs": [
        {
          "output_type": "stream",
          "name": "stdout",
          "text": [
            "✅ Great job! Exercise completed successfully.\n"
          ]
        }
      ],
      "source": [
        "# Given a NumPy array `mask_array` and a `mask_value`, create `filtered_array` containing only the elements of `mask_array` that are greater than `mask_value`.\n",
        "@check_numpy_25\n",
        "def numpy_25(mask_array, mask_value):\n",
        "    # This line is mandatory and should not be removed.\n",
        "    ex_stat_init = True\n",
        "\n",
        "    # BELOW GOES YOUR CODE\n",
        "    filtered_array = mask_array[mask_array>mask_value]\n",
        "    # ABOVE GOES YOUR CODE\n",
        "    return {\"filtered_array\": filtered_array}\n",
        "\n",
        "numpy_25()"
      ]
    },
    {
      "cell_type": "code",
      "execution_count": 39,
      "metadata": {
        "id": "v9Ew_aXFqEHR",
        "outputId": "5aedbc9e-7c10-45a6-a9c3-fd39c6320ac9",
        "colab": {
          "base_uri": "https://localhost:8080/"
        }
      },
      "outputs": [
        {
          "output_type": "stream",
          "name": "stdout",
          "text": [
            "✅ Great job! Exercise completed successfully.\n"
          ]
        }
      ],
      "source": [
        "# Apply masking to the 2D array `multi_mask_array` that keeps all elements greater than the 'condition_value' and store the satisfying elements in `masked_array_2d`.\n",
        "@check_numpy_26\n",
        "def numpy_26(multi_mask_array, condition_value):\n",
        "    # This line is mandatory and should not be removed.\n",
        "    ex_stat_init = True\n",
        "\n",
        "    # BELOW GOES YOUR CODE\n",
        "    masked_array_2d = multi_mask_array[multi_mask_array > condition_value]\n",
        "    # ABOVE GOES YOUR CODE\n",
        "    return {\"masked_array_2d\": masked_array_2d}\n",
        "\n",
        "numpy_26()"
      ]
    },
    {
      "cell_type": "code",
      "execution_count": 40,
      "metadata": {
        "id": "4NiOAMl_qEHR",
        "outputId": "6ec1a286-e9c6-4a2c-b4fd-60b03b10f088",
        "colab": {
          "base_uri": "https://localhost:8080/"
        }
      },
      "outputs": [
        {
          "output_type": "stream",
          "name": "stdout",
          "text": [
            "✅ Great job! Exercise completed successfully.\n"
          ]
        }
      ],
      "source": [
        "# Calculate the sum of elements for each column of a 2D array `sum_2d_array` and store it in `column_sums`.\n",
        "@check_numpy_27\n",
        "def numpy_27(sum_2d_array):\n",
        "    # This line is mandatory and should not be removed.\n",
        "    ex_stat_init = True\n",
        "\n",
        "    # BELOW GOES YOUR CODE\n",
        "    column_sums = sum(sum_2d_array)\n",
        "    # ABOVE GOES YOUR CODE\n",
        "    return {\"column_sums\": column_sums}\n",
        "\n",
        "numpy_27()"
      ]
    },
    {
      "cell_type": "code",
      "execution_count": 41,
      "metadata": {
        "id": "SXV9qnG9qEHR",
        "outputId": "3e06b1ec-63f2-46cb-ce01-919fceeddb28",
        "colab": {
          "base_uri": "https://localhost:8080/"
        }
      },
      "outputs": [
        {
          "output_type": "stream",
          "name": "stdout",
          "text": [
            "✅ Great job! Exercise completed successfully.\n"
          ]
        }
      ],
      "source": [
        "# Find the minimum value in the NumPy array `min_array` and assign it to `min_value`.\n",
        "@check_numpy_28\n",
        "def numpy_28(min_array):\n",
        "    # This line is mandatory and should not be removed.\n",
        "    ex_stat_init = True\n",
        "\n",
        "    # BELOW GOES YOUR CODE\n",
        "    min_value = min(min_array)\n",
        "    # ABOVE GOES YOUR CODE\n",
        "    return {\"min_value\": min_value}\n",
        "\n",
        "numpy_28()"
      ]
    },
    {
      "cell_type": "code",
      "execution_count": 42,
      "metadata": {
        "id": "cvtk16CpqEHS",
        "outputId": "15005fb4-68de-4e3e-bdb6-fef8c64e425d",
        "colab": {
          "base_uri": "https://localhost:8080/"
        }
      },
      "outputs": [
        {
          "output_type": "stream",
          "name": "stdout",
          "text": [
            "✅ Great job! Exercise completed successfully.\n"
          ]
        }
      ],
      "source": [
        "# Find the maximum value in the NumPy array `max_array` and assign it to `max_value`.\n",
        "@check_numpy_29\n",
        "def numpy_29(max_array):\n",
        "    # This line is mandatory and should not be removed.\n",
        "    ex_stat_init = True\n",
        "\n",
        "    # BELOW GOES YOUR CODE\n",
        "    max_value = max(max_array)\n",
        "    # ABOVE GOES YOUR CODE\n",
        "    return {\"max_value\": max_value}\n",
        "\n",
        "numpy_29()"
      ]
    },
    {
      "cell_type": "code",
      "execution_count": 43,
      "metadata": {
        "id": "fvfNhrE7qEHS",
        "outputId": "63aa6778-a511-4b82-cd33-00cf470a5c07",
        "colab": {
          "base_uri": "https://localhost:8080/"
        }
      },
      "outputs": [
        {
          "output_type": "stream",
          "name": "stdout",
          "text": [
            "✅ Great job! Exercise completed successfully.\n"
          ]
        }
      ],
      "source": [
        "# Calculate the mean of `mean_array` and store it in `mean_value`.\n",
        "@check_numpy_30\n",
        "def numpy_30(mean_array):\n",
        "    # This line is mandatory and should not be removed.\n",
        "    ex_stat_init = True\n",
        "\n",
        "    # BELOW GOES YOUR CODE\n",
        "    mean_value = np.mean(mean_array)\n",
        "    # ABOVE GOES YOUR CODE\n",
        "    return {\"mean_value\": mean_value}\n",
        "\n",
        "numpy_30()"
      ]
    },
    {
      "cell_type": "code",
      "execution_count": 44,
      "metadata": {
        "id": "QapFoP4SqEHS",
        "outputId": "776c3bd0-fabb-4bcd-db95-66708f064069",
        "colab": {
          "base_uri": "https://localhost:8080/"
        }
      },
      "outputs": [
        {
          "output_type": "stream",
          "name": "stdout",
          "text": [
            "✅ Great job! Exercise completed successfully.\n"
          ]
        }
      ],
      "source": [
        "# Calculate the standard deviation of the NumPy array `std_array` and assign it to `std_dev`.\n",
        "@check_numpy_31\n",
        "def numpy_31(std_array):\n",
        "    # This line is mandatory and should not be removed.\n",
        "    ex_stat_init = True\n",
        "\n",
        "    # BELOW GOES YOUR CODE\n",
        "    std_dev = np.std(std_array)\n",
        "    # ABOVE GOES YOUR CODE\n",
        "    return {\"std_dev\": std_dev}\n",
        "\n",
        "numpy_31()"
      ]
    },
    {
      "cell_type": "code",
      "source": [
        "std_array = np.array([1,2,3,4])\n",
        "np.std(std_array)"
      ],
      "metadata": {
        "colab": {
          "base_uri": "https://localhost:8080/"
        },
        "id": "zFcz11mWCKoZ",
        "outputId": "c3014c59-5a65-46d1-e71d-5dfd0860076c"
      },
      "execution_count": 45,
      "outputs": [
        {
          "output_type": "execute_result",
          "data": {
            "text/plain": [
              "1.118033988749895"
            ]
          },
          "metadata": {},
          "execution_count": 45
        }
      ]
    },
    {
      "cell_type": "code",
      "execution_count": 46,
      "metadata": {
        "id": "_VhZq3P7qEHS",
        "outputId": "43dc63cf-04d9-4566-b464-6cd5f405ba7e",
        "colab": {
          "base_uri": "https://localhost:8080/"
        }
      },
      "outputs": [
        {
          "output_type": "stream",
          "name": "stdout",
          "text": [
            "✅ Great job! Exercise completed successfully.\n"
          ]
        }
      ],
      "source": [
        "# Compute the square root of each element in `sqrt_array` using `np.sqrt()` and save the result in `sqrt_result`.\n",
        "@check_numpy_32\n",
        "def numpy_32(sqrt_array):\n",
        "    # This line is mandatory and should not be removed.\n",
        "    ex_stat_init = True\n",
        "\n",
        "    # BELOW GOES YOUR CODE\n",
        "    sqrt_result = np.sqrt(sqrt_array)\n",
        "    # ABOVE GOES YOUR CODE\n",
        "    return {\"sqrt_result\": sqrt_result}\n",
        "\n",
        "numpy_32()"
      ]
    },
    {
      "cell_type": "code",
      "execution_count": 47,
      "metadata": {
        "id": "ye2oZEH_qEHT",
        "outputId": "a53840c7-7465-45e6-dea6-a34eeaa006df",
        "colab": {
          "base_uri": "https://localhost:8080/"
        }
      },
      "outputs": [
        {
          "output_type": "stream",
          "name": "stdout",
          "text": [
            "✅ Great job! Exercise completed successfully.\n"
          ]
        }
      ],
      "source": [
        "# Calculate the exponential of each element in `exp_array` with `np.exp()` and store it in `exp_result`.\n",
        "@check_numpy_33\n",
        "def numpy_33(exp_array):\n",
        "    # This line is mandatory and should not be removed.\n",
        "    ex_stat_init = True\n",
        "\n",
        "    # BELOW GOES YOUR CODE\n",
        "    exp_result = np.exp(exp_array)\n",
        "    # ABOVE GOES YOUR CODE\n",
        "    return {\"exp_result\": exp_result}\n",
        "\n",
        "numpy_33()"
      ]
    },
    {
      "cell_type": "code",
      "execution_count": 48,
      "metadata": {
        "id": "IeWQqih1qEHT",
        "outputId": "ad70ece3-dee2-4e52-e708-c79cf88fc9aa",
        "colab": {
          "base_uri": "https://localhost:8080/"
        }
      },
      "outputs": [
        {
          "output_type": "stream",
          "name": "stdout",
          "text": [
            "✅ Great job! Exercise completed successfully.\n"
          ]
        }
      ],
      "source": [
        "# Compute the natural logarithm of each element in `log_array` with `np.log()` and save it in `log_result`.\n",
        "@check_numpy_34\n",
        "def numpy_34(log_array):\n",
        "    # This line is mandatory and should not be removed.\n",
        "    ex_stat_init = True\n",
        "\n",
        "    # BELOW GOES YOUR CODE\n",
        "    log_result =np.log(log_array)\n",
        "    # ABOVE GOES YOUR CODE\n",
        "    return {\"log_result\": log_result}\n",
        "\n",
        "numpy_34()"
      ]
    },
    {
      "cell_type": "code",
      "execution_count": 49,
      "metadata": {
        "id": "OyrxQRVkqEHU",
        "outputId": "8dc6907c-7eae-4882-f67f-38ee93bf7216",
        "colab": {
          "base_uri": "https://localhost:8080/"
        }
      },
      "outputs": [
        {
          "output_type": "stream",
          "name": "stdout",
          "text": [
            "✅ Great job! Exercise completed successfully.\n"
          ]
        }
      ],
      "source": [
        "# Calculate the sine of each element in `sin_array` using `np.sin()` and store the result in `sin_result`.\n",
        "@check_numpy_35\n",
        "def numpy_35(sin_array):\n",
        "    # This line is mandatory and should not be removed.\n",
        "    ex_stat_init = True\n",
        "\n",
        "    # BELOW GOES YOUR CODE\n",
        "    sin_result = np.sin(sin_array)\n",
        "    # ABOVE GOES YOUR CODE\n",
        "    return {\"sin_result\": sin_result}\n",
        "\n",
        "numpy_35()"
      ]
    },
    {
      "cell_type": "code",
      "execution_count": 50,
      "metadata": {
        "id": "iiLqBlneqEHU",
        "outputId": "c7084b0a-b5d8-4a07-e646-1fe85bb83b88",
        "colab": {
          "base_uri": "https://localhost:8080/"
        }
      },
      "outputs": [
        {
          "output_type": "stream",
          "name": "stdout",
          "text": [
            "✅ Great job! Exercise completed successfully.\n"
          ]
        }
      ],
      "source": [
        "# Compute the cosine of `cos_array` with `np.cos()` and save it in `cos_result`.\n",
        "@check_numpy_36\n",
        "def numpy_36(cos_array):\n",
        "    # This line is mandatory and should not be removed.\n",
        "    ex_stat_init = True\n",
        "\n",
        "    # BELOW GOES YOUR CODE\n",
        "    cos_result = np.cos(cos_array)\n",
        "    # ABOVE GOES YOUR CODE\n",
        "    return {\"cos_result\": cos_result}\n",
        "\n",
        "numpy_36()"
      ]
    },
    {
      "cell_type": "code",
      "execution_count": 51,
      "metadata": {
        "id": "4jJJo_fiqEHU",
        "outputId": "da20a6d5-10e2-4a58-d434-2bc4999a0a1c",
        "colab": {
          "base_uri": "https://localhost:8080/"
        }
      },
      "outputs": [
        {
          "output_type": "stream",
          "name": "stdout",
          "text": [
            "✅ Great job! Exercise completed successfully.\n"
          ]
        }
      ],
      "source": [
        "# Calculate the tangent of each element in `tan_array` using `np.tan()` and save it in `tan_result`.\n",
        "@check_numpy_37\n",
        "def numpy_37(tan_array):\n",
        "    # This line is mandatory and should not be removed.\n",
        "    ex_stat_init = True\n",
        "\n",
        "    # BELOW GOES YOUR CODE\n",
        "    tan_result = np.tan(tan_array)\n",
        "    # ABOVE GOES YOUR CODE\n",
        "    return {\"tan_result\": tan_result}\n",
        "\n",
        "numpy_37()"
      ]
    },
    {
      "cell_type": "code",
      "execution_count": 52,
      "metadata": {
        "id": "uRlJgeArqEHU",
        "outputId": "65549d05-b05e-40cd-9144-7a84e8329c48",
        "colab": {
          "base_uri": "https://localhost:8080/"
        }
      },
      "outputs": [
        {
          "output_type": "stream",
          "name": "stdout",
          "text": [
            "✅ Great job! Exercise completed successfully.\n"
          ]
        }
      ],
      "source": [
        "# Transpose the 2D array `transpose_array` using `np.transpose()` and store in `transposed_array`.\n",
        "@check_numpy_38\n",
        "def numpy_38(transpose_array):\n",
        "    # This line is mandatory and should not be removed.\n",
        "    ex_stat_init = True\n",
        "\n",
        "    # BELOW GOES YOUR CODE\n",
        "    transposed_array = np.transpose(transpose_array)\n",
        "    # ABOVE GOES YOUR CODE\n",
        "    return {\"transposed_array\": transposed_array}\n",
        "\n",
        "numpy_38()"
      ]
    },
    {
      "cell_type": "code",
      "execution_count": 53,
      "metadata": {
        "id": "TYLh0hXBqEHe",
        "outputId": "693b0719-acef-4991-cfec-0bbee5a0c0ac",
        "colab": {
          "base_uri": "https://localhost:8080/"
        }
      },
      "outputs": [
        {
          "output_type": "stream",
          "name": "stdout",
          "text": [
            "✅ Great job! Exercise completed successfully.\n"
          ]
        }
      ],
      "source": [
        "# Compute the dot product of `vector1` and `vector2` using `np.dot()` and assign the result to `dot_product_result`.\n",
        "@check_numpy_39\n",
        "def numpy_39(vector1, vector2):\n",
        "    # This line is mandatory and should not be removed.\n",
        "    ex_stat_init = True\n",
        "\n",
        "    # BELOW GOES YOUR CODE\n",
        "    dot_product_result = np.dot(vector1,vector2)\n",
        "    # ABOVE GOES YOUR CODE\n",
        "    return {\"dot_product_result\": dot_product_result}\n",
        "\n",
        "numpy_39()"
      ]
    },
    {
      "cell_type": "code",
      "execution_count": 54,
      "metadata": {
        "id": "fHY9rftlqEHf",
        "outputId": "d61b19b7-089f-447e-a597-22dfe1080dfa",
        "colab": {
          "base_uri": "https://localhost:8080/"
        }
      },
      "outputs": [
        {
          "output_type": "stream",
          "name": "stdout",
          "text": [
            "✅ Great job! Exercise completed successfully.\n"
          ]
        }
      ],
      "source": [
        "# Calculate the inverse of the square matrix `square_matrix` using `np.linalg.inv()` and store it in `inverse_matrix`.\n",
        "@check_numpy_40\n",
        "def numpy_40(square_matrix):\n",
        "    # This line is mandatory and should not be removed.\n",
        "    ex_stat_init = True\n",
        "\n",
        "    # BELOW GOES YOUR CODE\n",
        "    inverse_matrix = np.linalg.inv(square_matrix)\n",
        "    # ABOVE GOES YOUR CODE\n",
        "    return {\"inverse_matrix\": inverse_matrix}\n",
        "\n",
        "numpy_40()"
      ]
    },
    {
      "cell_type": "code",
      "source": [
        "square_matrix = [[1,2],[3,4]]\n",
        "np.linalg.inv(square_matrix)"
      ],
      "metadata": {
        "colab": {
          "base_uri": "https://localhost:8080/"
        },
        "id": "3KG-oKSnDhw5",
        "outputId": "e02dc6b2-4e75-4f29-b10f-abda7d9f3dc3"
      },
      "execution_count": 55,
      "outputs": [
        {
          "output_type": "execute_result",
          "data": {
            "text/plain": [
              "array([[-2. ,  1. ],\n",
              "       [ 1.5, -0.5]])"
            ]
          },
          "metadata": {},
          "execution_count": 55
        }
      ]
    },
    {
      "cell_type": "code",
      "execution_count": 56,
      "metadata": {
        "id": "_5mjrsiOqEHf",
        "outputId": "9ff6db97-b3f0-4dbd-f14c-58dce682d54a",
        "colab": {
          "base_uri": "https://localhost:8080/"
        }
      },
      "outputs": [
        {
          "output_type": "stream",
          "name": "stdout",
          "text": [
            "✅ Great job! Exercise completed successfully.\n"
          ]
        }
      ],
      "source": [
        "# Find the determinant of the square matrix `det_matrix` using `np.linalg.det()` and assign it to `determinant_value`.\n",
        "@check_numpy_41\n",
        "def numpy_41(det_matrix):\n",
        "    # This line is mandatory and should not be removed.\n",
        "    ex_stat_init = True\n",
        "\n",
        "    # BELOW GOES YOUR CODE\n",
        "    determinant_value = np.linalg.det(det_matrix)\n",
        "    # ABOVE GOES YOUR CODE\n",
        "    return {\"determinant_value\": determinant_value}\n",
        "\n",
        "numpy_41()"
      ]
    },
    {
      "cell_type": "code",
      "execution_count": 57,
      "metadata": {
        "id": "liIbTrL_qEHf",
        "outputId": "b1c6fc16-d309-4b9f-bd87-5a85f6b2778e",
        "colab": {
          "base_uri": "https://localhost:8080/"
        }
      },
      "outputs": [
        {
          "output_type": "stream",
          "name": "stdout",
          "text": [
            "✅ Great job! Exercise completed successfully.\n"
          ]
        }
      ],
      "source": [
        "# Concatenate `array_x` and `array_y` vertically using `np.concatenate()` and save the result in `concat_vertical`.\n",
        "@check_numpy_42\n",
        "def numpy_42(array_x, array_y):\n",
        "    # This line is mandatory and should not be removed.\n",
        "    ex_stat_init = True\n",
        "\n",
        "    # BELOW GOES YOUR CODE\n",
        "    concat_vertical = np.concatenate((array_x,array_y), axis = 1)\n",
        "    # ABOVE GOES YOUR CODE\n",
        "    return {\"concat_vertical\": concat_vertical}\n",
        "\n",
        "numpy_42()"
      ]
    },
    {
      "cell_type": "code",
      "execution_count": 58,
      "metadata": {
        "id": "eCc2JywhqEHf",
        "outputId": "3c9c6dd5-8f2b-45ca-b663-250ccfc27a38",
        "colab": {
          "base_uri": "https://localhost:8080/"
        }
      },
      "outputs": [
        {
          "output_type": "stream",
          "name": "stdout",
          "text": [
            "✅ Great job! Exercise completed successfully.\n"
          ]
        }
      ],
      "source": [
        "# Stack `stack_array1` and `stack_array2` horizontally using `np.hstack()` and assign it to `stacked_horizontal`.\n",
        "@check_numpy_43\n",
        "def numpy_43(stack_array1, stack_array2):\n",
        "    # This line is mandatory and should not be removed.\n",
        "    ex_stat_init = True\n",
        "\n",
        "    # BELOW GOES YOUR CODE\n",
        "    stacked_horizontal = np.hstack((stack_array1,stack_array2))\n",
        "    # ABOVE GOES YOUR CODE\n",
        "    return {\"stacked_horizontal\": stacked_horizontal}\n",
        "\n",
        "numpy_43()"
      ]
    },
    {
      "cell_type": "code",
      "execution_count": 59,
      "metadata": {
        "id": "8RojlWgeqEHg",
        "outputId": "4787ad4a-85e4-460f-a688-48105138a949",
        "colab": {
          "base_uri": "https://localhost:8080/"
        }
      },
      "outputs": [
        {
          "output_type": "stream",
          "name": "stdout",
          "text": [
            "✅ Great job! Exercise completed successfully.\n"
          ]
        }
      ],
      "source": [
        "# Add a scalar `scalar_value` to each element of `broadcast_array` using broadcasting and store in `broadcast_result`.\n",
        "@check_numpy_44\n",
        "def numpy_44(broadcast_array, scalar_value):\n",
        "    # This line is mandatory and should not be removed.\n",
        "    ex_stat_init = True\n",
        "\n",
        "    # BELOW GOES YOUR CODE\n",
        "    broadcast_result = broadcast_array + scalar_value\n",
        "    # ABOVE GOES YOUR CODE\n",
        "    return {\"broadcast_result\": broadcast_result}\n",
        "\n",
        "numpy_44()"
      ]
    },
    {
      "cell_type": "code",
      "execution_count": 60,
      "metadata": {
        "id": "bCvQJnhuqEHg",
        "outputId": "d60c403a-2d55-4698-ed0a-2e0720b5f078",
        "colab": {
          "base_uri": "https://localhost:8080/"
        }
      },
      "outputs": [
        {
          "output_type": "stream",
          "name": "stdout",
          "text": [
            "✅ Great job! Exercise completed successfully.\n"
          ]
        }
      ],
      "source": [
        "# Given a 1D array `small_array` and a 2D array `large_array`, utilize broadcasting to add them and store the result in `broadcast_sum`.\n",
        "@check_numpy_45\n",
        "def numpy_45(small_array, large_array):\n",
        "    # This line is mandatory and should not be removed.\n",
        "    ex_stat_init = True\n",
        "\n",
        "    # BELOW GOES YOUR CODE\n",
        "    broadcast_sum = small_array + large_array\n",
        "    # ABOVE GOES YOUR CODE\n",
        "    return {\"broadcast_sum\": broadcast_sum}\n",
        "\n",
        "numpy_45()"
      ]
    },
    {
      "cell_type": "code",
      "execution_count": 61,
      "metadata": {
        "id": "kgh0U093qEHg",
        "outputId": "6a9f7e6f-59fa-4500-b89e-6e62646c75af",
        "colab": {
          "base_uri": "https://localhost:8080/"
        }
      },
      "outputs": [
        {
          "output_type": "stream",
          "name": "stdout",
          "text": [
            "✅ Great job! Exercise completed successfully.\n"
          ]
        }
      ],
      "source": [
        "# Subtract a scalar value `scalar_sub` from each element of `two_d_array`.\n",
        "@check_numpy_46\n",
        "def numpy_46(two_d_array, scalar_sub):\n",
        "    # This line is mandatory and should not be removed.\n",
        "    ex_stat_init = True\n",
        "\n",
        "    # BELOW GOES YOUR CODE\n",
        "    two_d_array = two_d_array - scalar_sub\n",
        "    # ABOVE GOES YOUR CODE\n",
        "    return {\"two_d_array\": two_d_array}\n",
        "\n",
        "numpy_46()"
      ]
    },
    {
      "cell_type": "code",
      "execution_count": 62,
      "metadata": {
        "id": "ruKbtcRnqEHh",
        "outputId": "7f5a61f2-5577-4209-94a1-5082e4e6886f",
        "colab": {
          "base_uri": "https://localhost:8080/"
        }
      },
      "outputs": [
        {
          "output_type": "stream",
          "name": "stdout",
          "text": [
            "✅ Great job! Exercise completed successfully.\n"
          ]
        }
      ],
      "source": [
        "# Given dimensions `dim1`, `dim2`, and `dim3`, create a 3D NumPy array named `random_int_array` containing random integers between 0 and 10.\n",
        "@check_numpy_47\n",
        "def numpy_47(dim1, dim2, dim3):\n",
        "    # This line is mandatory and should not be removed.\n",
        "    ex_stat_init = True\n",
        "\n",
        "    # BELOW GOES YOUR CODE\n",
        "    random_int_array = np.random.randint(0,11, size = (dim2,dim2,dim3))\n",
        "    # ABOVE GOES YOUR CODE\n",
        "    return {\"random_int_array\": random_int_array}\n",
        "\n",
        "numpy_47()"
      ]
    },
    {
      "cell_type": "code",
      "execution_count": 63,
      "metadata": {
        "id": "7M5mpOtQqEHh",
        "outputId": "920949b4-17a6-4c26-af7e-f612eb91e9fa",
        "colab": {
          "base_uri": "https://localhost:8080/"
        }
      },
      "outputs": [
        {
          "output_type": "stream",
          "name": "stdout",
          "text": [
            "✅ Great job! Exercise completed successfully.\n"
          ]
        }
      ],
      "source": [
        "# Convert the 2D array `multi_array` into a 1D array named `flattened`.\n",
        "@check_numpy_48\n",
        "def numpy_48(multi_array):\n",
        "    # This line is mandatory and should not be removed.\n",
        "    ex_stat_init = True\n",
        "\n",
        "    # BELOW GOES YOUR CODE\n",
        "    flattened = multi_array.flatten()\n",
        "    # ABOVE GOES YOUR CODE\n",
        "    return {\"flattened\": flattened}\n",
        "\n",
        "numpy_48()"
      ]
    },
    {
      "cell_type": "code",
      "execution_count": 64,
      "metadata": {
        "id": "VO5YtLsRqEHh",
        "outputId": "236f1ef9-f758-4127-d743-eab2949ede28",
        "colab": {
          "base_uri": "https://localhost:8080/"
        }
      },
      "outputs": [
        {
          "output_type": "stream",
          "name": "stdout",
          "text": [
            "✅ Great job! Exercise completed successfully.\n"
          ]
        }
      ],
      "source": [
        "# Given a NumPy array `nonzero_array`, use `np.nonzero()` to find indices of non-zero elements and assign them to `nonzero_indices`.\n",
        "@check_numpy_49\n",
        "def numpy_49(nonzero_array):\n",
        "    # This line is mandatory and should not be removed.\n",
        "    ex_stat_init = True\n",
        "\n",
        "    # BELOW GOES YOUR CODE\n",
        "    nonzero_indices = np.nonzero(nonzero_array)\n",
        "    # ABOVE GOES YOUR CODE\n",
        "    return {\"nonzero_indices\": nonzero_indices}\n",
        "\n",
        "numpy_49()"
      ]
    },
    {
      "cell_type": "code",
      "execution_count": 65,
      "metadata": {
        "id": "upWS9h5vqEHh",
        "outputId": "5dfb60cd-d8fa-447a-d003-3b5694f6e976",
        "colab": {
          "base_uri": "https://localhost:8080/"
        }
      },
      "outputs": [
        {
          "output_type": "stream",
          "name": "stdout",
          "text": [
            "✅ Great job! Exercise completed successfully.\n"
          ]
        }
      ],
      "source": [
        "# Create a diagonal matrix `diagonal_matrix` with the given 1D array `diag_elements` using `np.diag()`.\n",
        "@check_numpy_50\n",
        "def numpy_50(diag_elements):\n",
        "    # This line is mandatory and should not be removed.\n",
        "    ex_stat_init = True\n",
        "\n",
        "    # BELOW GOES YOUR CODE\n",
        "    diagonal_matrix = np.diag(diag_elements)\n",
        "    # ABOVE GOES YOUR CODE\n",
        "    return {\"diagonal_matrix\": diagonal_matrix}\n",
        "\n",
        "numpy_50()"
      ]
    },
    {
      "cell_type": "code",
      "execution_count": 66,
      "metadata": {
        "id": "ly6Dn6n9qEHh",
        "outputId": "5d5ea0eb-9e1e-4a6b-e28f-f04a83682617",
        "colab": {
          "base_uri": "https://localhost:8080/"
        }
      },
      "outputs": [
        {
          "output_type": "stream",
          "name": "stdout",
          "text": [
            "✅ Great job! Exercise completed successfully.\n"
          ]
        }
      ],
      "source": [
        "# Update values in `conditional_array` to `new_value` where the condition `np.where_condition` is satisfied, and save it in `updated_array`.\n",
        "@check_numpy_51\n",
        "def numpy_51(conditional_array, np_where_condition, new_value):\n",
        "    # This line is mandatory and should not be removed.\n",
        "    ex_stat_init = True\n",
        "\n",
        "    # BELOW GOES YOUR CODE\n",
        "    updated_array = np.where(np_where_condition, new_value, conditional_array)\n",
        "    # ABOVE GOES YOUR CODE\n",
        "    return {\"updated_array\": updated_array}\n",
        "\n",
        "numpy_51()"
      ]
    },
    {
      "cell_type": "code",
      "execution_count": 67,
      "metadata": {
        "id": "B4msuORqqEHi",
        "outputId": "301b5c9d-e668-485b-be35-abddbb1b8e1c",
        "colab": {
          "base_uri": "https://localhost:8080/"
        }
      },
      "outputs": [
        {
          "output_type": "stream",
          "name": "stdout",
          "text": [
            "✅ Great job! Exercise completed successfully.\n"
          ]
        }
      ],
      "source": [
        "# Given two arrays `max_array_a` and `max_array_b`, compute the element-wise maximum and store it in `element_max`.\n",
        "@check_numpy_52\n",
        "def numpy_52(max_array_a, max_array_b):\n",
        "    # This line is mandatory and should not be removed.\n",
        "    ex_stat_init = True\n",
        "\n",
        "    # BELOW GOES YOUR CODE\n",
        "    element_max = np.maximum(max_array_a, max_array_b)\n",
        "    # ABOVE GOES YOUR CODE\n",
        "    return {\"element_max\": element_max}\n",
        "\n",
        "numpy_52()"
      ]
    },
    {
      "cell_type": "code",
      "execution_count": 68,
      "metadata": {
        "id": "OugXLOykqEHi",
        "outputId": "ace1f51b-d3f8-49b7-9595-fae595e98ee9",
        "colab": {
          "base_uri": "https://localhost:8080/"
        }
      },
      "outputs": [
        {
          "output_type": "stream",
          "name": "stdout",
          "text": [
            "✅ Great job! Exercise completed successfully.\n"
          ]
        }
      ],
      "source": [
        "# Calculate the cumulative sum of elements in `cumsum_array` and assign it to `cumulative_sum`.\n",
        "@check_numpy_53\n",
        "def numpy_53(cumsum_array):\n",
        "    # This line is mandatory and should not be removed.\n",
        "    ex_stat_init = True\n",
        "\n",
        "    # BELOW GOES YOUR CODE\n",
        "    cumulative_sum = np.cumsum(cumsum_array)\n",
        "    # ABOVE GOES YOUR CODE\n",
        "    return {\"cumulative_sum\": cumulative_sum}\n",
        "\n",
        "numpy_53()"
      ]
    },
    {
      "cell_type": "code",
      "execution_count": 69,
      "metadata": {
        "id": "HWz2BWSOqEHi",
        "outputId": "588c621f-5db0-426f-da37-7613c377ded6",
        "colab": {
          "base_uri": "https://localhost:8080/"
        }
      },
      "outputs": [
        {
          "output_type": "stream",
          "name": "stdout",
          "text": [
            "✅ Great job! Exercise completed successfully.\n"
          ]
        }
      ],
      "source": [
        "# Extract unique elements from the NumPy array `unique_array` and store them in `unique_elements`.\n",
        "@check_numpy_54\n",
        "def numpy_54(unique_array):\n",
        "    # This line is mandatory and should not be removed.\n",
        "    ex_stat_init = True\n",
        "\n",
        "    # BELOW GOES YOUR CODE\n",
        "    unique_elements = np.unique(unique_array)\n",
        "    # ABOVE GOES YOUR CODE\n",
        "    return {\"unique_elements\": unique_elements}\n",
        "\n",
        "numpy_54()"
      ]
    },
    {
      "cell_type": "code",
      "execution_count": 70,
      "metadata": {
        "id": "FihnpFhoqEHi",
        "outputId": "f73e7f01-a3f8-484c-c1a9-1e63ea98a0e7",
        "colab": {
          "base_uri": "https://localhost:8080/"
        }
      },
      "outputs": [
        {
          "output_type": "stream",
          "name": "stdout",
          "text": [
            "✅ Great job! Exercise completed successfully.\n"
          ]
        }
      ],
      "source": [
        "# Sort the array `sort_array` in ascending order and assign it to `sorted_array`.\n",
        "@check_numpy_55\n",
        "def numpy_55(sort_array):\n",
        "    # This line is mandatory and should not be removed.\n",
        "    ex_stat_init = True\n",
        "\n",
        "    # BELOW GOES YOUR CODE\n",
        "    sorted_array = np.sort(sort_array)\n",
        "    # ABOVE GOES YOUR CODE\n",
        "    return {\"sorted_array\": sorted_array}\n",
        "\n",
        "numpy_55()"
      ]
    },
    {
      "cell_type": "code",
      "execution_count": 71,
      "metadata": {
        "id": "OoRsn7ijqEHj",
        "outputId": "a16db433-08e2-4a5a-bd4c-a5fa4754f3cc",
        "colab": {
          "base_uri": "https://localhost:8080/"
        }
      },
      "outputs": [
        {
          "output_type": "stream",
          "name": "stdout",
          "text": [
            "✅ Great job! Exercise completed successfully.\n"
          ]
        }
      ],
      "source": [
        "# Compute the intersection of two arrays `intersect_array1` and `intersect_array2` and save it in `intersection`.\n",
        "@check_numpy_56\n",
        "def numpy_56(intersect_array1, intersect_array2):\n",
        "    # This line is mandatory and should not be removed.\n",
        "    ex_stat_init = True\n",
        "\n",
        "    # BELOW GOES YOUR CODE\n",
        "    intersection = np.intersect1d(intersect_array1,intersect_array2)\n",
        "    # ABOVE GOES YOUR CODE\n",
        "    return {\"intersection\": intersection}\n",
        "\n",
        "numpy_56()"
      ]
    },
    {
      "cell_type": "code",
      "execution_count": 72,
      "metadata": {
        "id": "DpY2-WcYqEHj",
        "outputId": "9c24618e-cb9d-4ba2-ce52-162df8f3b0e2",
        "colab": {
          "base_uri": "https://localhost:8080/"
        }
      },
      "outputs": [
        {
          "output_type": "stream",
          "name": "stdout",
          "text": [
            "✅ Great job! Exercise completed successfully.\n"
          ]
        }
      ],
      "source": [
        "# Join `join_array1`, `join_array2`, and `join_array3` along a new axis using `np.stack()` and store it in `joined_array`.\n",
        "@check_numpy_57\n",
        "def numpy_57(join_array1, join_array2, join_array3):\n",
        "    # This line is mandatory and should not be removed.\n",
        "    ex_stat_init = True\n",
        "\n",
        "    # BELOW GOES YOUR CODE\n",
        "    joined_array = np.stack((join_array1, join_array2, join_array3))\n",
        "    # ABOVE GOES YOUR CODE\n",
        "    return {\"joined_array\": joined_array}\n",
        "\n",
        "numpy_57()"
      ]
    },
    {
      "cell_type": "code",
      "execution_count": 73,
      "metadata": {
        "id": "UK5fb20mqEHj",
        "outputId": "5f36d97a-e033-4f7d-8d81-f42219eafed1",
        "colab": {
          "base_uri": "https://localhost:8080/"
        }
      },
      "outputs": [
        {
          "output_type": "stream",
          "name": "stdout",
          "text": [
            "✅ Great job! Exercise completed successfully.\n"
          ]
        }
      ],
      "source": [
        "# Split `split_array` into `num_splits` parts using `np.array_split()` and assign the result to `split_parts`.\n",
        "@check_numpy_58\n",
        "def numpy_58(split_array, num_splits):\n",
        "    # This line is mandatory and should not be removed.\n",
        "    ex_stat_init = True\n",
        "\n",
        "    # BELOW GOES YOUR CODE\n",
        "    split_parts = np.array_split(split_array, num_splits)\n",
        "    # ABOVE GOES YOUR CODE\n",
        "    return {\"split_parts\": split_parts}\n",
        "\n",
        "numpy_58()"
      ]
    },
    {
      "cell_type": "code",
      "execution_count": 74,
      "metadata": {
        "id": "22jci3DpqEHk",
        "outputId": "031a42f7-e585-490d-ea11-2f1642921ac4",
        "colab": {
          "base_uri": "https://localhost:8080/"
        }
      },
      "outputs": [
        {
          "output_type": "stream",
          "name": "stdout",
          "text": [
            "✅ Great job! Exercise completed successfully.\n"
          ]
        }
      ],
      "source": [
        "# Count elements in `count_array` that are greater than `threshold` and assign the count to `greater_count`.\n",
        "@check_numpy_59\n",
        "def numpy_59(count_array, threshold):\n",
        "    # This line is mandatory and should not be removed.\n",
        "    ex_stat_init = True\n",
        "\n",
        "    # BELOW GOES YOUR CODE\n",
        "    greater_count = np.sum(count_array>threshold)\n",
        "    # ABOVE GOES YOUR CODE\n",
        "    return {\"greater_count\": greater_count}\n",
        "\n",
        "numpy_59()"
      ]
    },
    {
      "cell_type": "code",
      "execution_count": 75,
      "metadata": {
        "id": "eNqR_E0WqEHk",
        "outputId": "17060c10-79f9-4f6c-8142-62b83b054866",
        "colab": {
          "base_uri": "https://localhost:8080/"
        }
      },
      "outputs": [
        {
          "output_type": "stream",
          "name": "stdout",
          "text": [
            "✅ Great job! Exercise completed successfully.\n"
          ]
        }
      ],
      "source": [
        "# Rotate the 2D array `rotate_array` 90 degrees counterclockwise using `np.rot90()` and store it in `rotated_array`.\n",
        "@check_numpy_60\n",
        "def numpy_60(rotate_array):\n",
        "    # This line is mandatory and should not be removed.\n",
        "    ex_stat_init = True\n",
        "\n",
        "    # BELOW GOES YOUR CODE\n",
        "    rotated_array = np.rot90(rotate_array)\n",
        "    # ABOVE GOES YOUR CODE\n",
        "    return {\"rotated_array\": rotated_array}\n",
        "\n",
        "numpy_60()"
      ]
    },
    {
      "cell_type": "code",
      "execution_count": 76,
      "metadata": {
        "id": "Q8D0x_w3qEHk",
        "outputId": "b09369bf-2c6e-4829-b4f8-883282cf10ab",
        "colab": {
          "base_uri": "https://localhost:8080/"
        }
      },
      "outputs": [
        {
          "output_type": "stream",
          "name": "stdout",
          "text": [
            "✅ Great job! Exercise completed successfully.\n"
          ]
        }
      ],
      "source": [
        "# Create an array named `random_float_array` with shape `float_shape` containing random floats between 0 and 1.\n",
        "@check_numpy_61\n",
        "def numpy_61(float_shape):\n",
        "    # This line is mandatory and should not be removed.\n",
        "    ex_stat_init = True\n",
        "\n",
        "    # BELOW GOES YOUR CODE\n",
        "    random_float_array = np.random.random(float_shape)\n",
        "    # ABOVE GOES YOUR CODE\n",
        "    return {\"random_float_array\": random_float_array}\n",
        "\n",
        "numpy_61()"
      ]
    },
    {
      "cell_type": "code",
      "execution_count": 77,
      "metadata": {
        "id": "EwAL5WRWqEHl",
        "outputId": "8ec13949-9f6d-49c8-d5c8-a8bd69eeba42",
        "colab": {
          "base_uri": "https://localhost:8080/"
        }
      },
      "outputs": [
        {
          "output_type": "stream",
          "name": "stdout",
          "text": [
            "✅ Great job! Exercise completed successfully.\n"
          ]
        }
      ],
      "source": [
        "# Compute the median of `median_array` and store it in `median_value`.\n",
        "@check_numpy_62\n",
        "def numpy_62(median_array):\n",
        "    # This line is mandatory and should not be removed.\n",
        "    ex_stat_init = True\n",
        "\n",
        "    # BELOW GOES YOUR CODE\n",
        "    median_value = np.median(median_array)\n",
        "    # ABOVE GOES YOUR CODE\n",
        "    return {\"median_value\": median_value}\n",
        "\n",
        "numpy_62()"
      ]
    },
    {
      "cell_type": "code",
      "execution_count": 78,
      "metadata": {
        "id": "GQII69xFqEHl",
        "outputId": "7374a318-7767-468a-d790-8bc139457e01",
        "colab": {
          "base_uri": "https://localhost:8080/"
        }
      },
      "outputs": [
        {
          "output_type": "stream",
          "name": "stdout",
          "text": [
            "✅ Great job! Exercise completed successfully.\n"
          ]
        }
      ],
      "source": [
        "# Given a complex NumPy array `complex_array`, extract its real and imaginary parts into `real_part` and `imag_part`.\n",
        "@check_numpy_63\n",
        "def numpy_63(complex_array):\n",
        "    # This line is mandatory and should not be removed.\n",
        "    ex_stat_init = True\n",
        "\n",
        "    # BELOW GOES YOUR CODE\n",
        "    real_part = complex_array.real\n",
        "    imag_part = complex_array.imag\n",
        "    # ABOVE GOES YOUR CODE\n",
        "    return {\"real_part\": real_part, \"imag_part\": imag_part}\n",
        "\n",
        "numpy_63()"
      ]
    },
    {
      "cell_type": "code",
      "execution_count": 79,
      "metadata": {
        "id": "PtQDi8DCqEHl",
        "outputId": "70920fc7-b024-4174-fdd7-fb8298cbaa97",
        "colab": {
          "base_uri": "https://localhost:8080/"
        }
      },
      "outputs": [
        {
          "output_type": "stream",
          "name": "stdout",
          "text": [
            "✅ Great job! Exercise completed successfully.\n"
          ]
        }
      ],
      "source": [
        "# Normalize the array `norm_array` to have values between 0 and 1, storing the result in `normalized_array`.\n",
        "@check_numpy_64\n",
        "def numpy_64(norm_array):\n",
        "    # This line is mandatory and should not be removed.\n",
        "    ex_stat_init = True\n",
        "\n",
        "    # BELOW GOES YOUR CODE\n",
        "    min_val = np.min(norm_array)\n",
        "    max_val = np.max(norm_array)\n",
        "    normalized_array = (norm_array - min_val) / (max_val - min_val)\n",
        "    # ABOVE GOES YOUR CODE\n",
        "    return {\"normalized_array\": normalized_array}\n",
        "\n",
        "numpy_64()"
      ]
    },
    {
      "cell_type": "code",
      "execution_count": 80,
      "metadata": {
        "id": "50mo7e-8qEHl",
        "outputId": "503f7074-0896-4f22-daa2-f6b8b03cc1aa",
        "colab": {
          "base_uri": "https://localhost:8080/"
        }
      },
      "outputs": [
        {
          "output_type": "stream",
          "name": "stdout",
          "text": [
            "❗ The implementation is incorrect or the exercise was not implemented.\n"
          ]
        }
      ],
      "source": [
        "# Replace negative elements in `replace_array` with `new_value` using `np.where()` and store in `replaced_array`.\n",
        "@check_numpy_65\n",
        "def numpy_65(replace_array, new_value):\n",
        "    # This line is mandatory and should not be removed.\n",
        "    ex_stat_init = True\n",
        "\n",
        "    # BELOW GOES YOUR CODE\n",
        "\n",
        "    # ABOVE GOES YOUR CODE\n",
        "    return {\"replaced_array\": replaced_array}\n",
        "\n",
        "numpy_65()"
      ]
    },
    {
      "cell_type": "code",
      "execution_count": 81,
      "metadata": {
        "id": "FxNvR6-1qEHm",
        "outputId": "ee8d3381-1ec2-4f85-9a39-08a0f403b0fc",
        "colab": {
          "base_uri": "https://localhost:8080/"
        }
      },
      "outputs": [
        {
          "output_type": "stream",
          "name": "stdout",
          "text": [
            "✅ Great job! Exercise completed successfully.\n"
          ]
        }
      ],
      "source": [
        "# Calculate the row-wise total sum for `axis_sum_array` and assign the output to `row_sums`.\n",
        "@check_numpy_66\n",
        "def numpy_66(axis_sum_array):\n",
        "    # This line is mandatory and should not be removed.\n",
        "    ex_stat_init = True\n",
        "\n",
        "    # BELOW GOES YOUR CODE\n",
        "    row_sums = np.sum(axis_sum_array, axis=0)\n",
        "    # ABOVE GOES YOUR CODE\n",
        "    return {\"row_sums\": row_sums}\n",
        "\n",
        "numpy_66()"
      ]
    },
    {
      "cell_type": "code",
      "execution_count": 82,
      "metadata": {
        "id": "bpnL0X4OqEHm",
        "outputId": "0cf195e9-5c90-4623-9972-fd885f956b1a",
        "colab": {
          "base_uri": "https://localhost:8080/"
        }
      },
      "outputs": [
        {
          "output_type": "stream",
          "name": "stdout",
          "text": [
            "✅ Great job! Exercise completed successfully.\n"
          ]
        }
      ],
      "source": [
        "# Produce a matrix `random_matrix` with `matrix_shape` dimensions and random integers from 0 to 100.\n",
        "@check_numpy_67\n",
        "def numpy_67(matrix_shape):\n",
        "    # This line is mandatory and should not be removed.\n",
        "    ex_stat_init = True\n",
        "\n",
        "    # BELOW GOES YOUR CODE\n",
        "    random_matrix = np.random.randint(0, 101, size=matrix_shape)\n",
        "    # ABOVE GOES YOUR CODE\n",
        "    return {\"random_matrix\": random_matrix.shape, \"random_values\": np.any((random_matrix < 0) | (random_matrix > 100))}\n",
        "\n",
        "numpy_67()"
      ]
    },
    {
      "cell_type": "code",
      "execution_count": 83,
      "metadata": {
        "id": "m5C3VEFMqEHm",
        "outputId": "ef61a6f7-15ca-4f6d-e763-8b614ad7a43b",
        "colab": {
          "base_uri": "https://localhost:8080/"
        }
      },
      "outputs": [
        {
          "output_type": "stream",
          "name": "stdout",
          "text": [
            "✅ Great job! Exercise completed successfully.\n"
          ]
        }
      ],
      "source": [
        "# Raise each element in `base_power_array` to a power specified in `exp_power_array`, element-wise, and store in `powered_array`.\n",
        "@check_numpy_68\n",
        "def numpy_68(base_power_array, exp_power_array):\n",
        "    # This line is mandatory and should not be removed.\n",
        "    ex_stat_init = True\n",
        "\n",
        "    # BELOW GOES YOUR CODE\n",
        "    powered_array = base_power_array ** exp_power_array\n",
        "    # ABOVE GOES YOUR CODE\n",
        "    return {\"powered_array\": powered_array}\n",
        "\n",
        "numpy_68()"
      ]
    },
    {
      "cell_type": "code",
      "execution_count": 84,
      "metadata": {
        "id": "Ut9g6mdLqEHm",
        "outputId": "c5f87f0e-f899-4df6-b450-dd7a3d46fb95",
        "colab": {
          "base_uri": "https://localhost:8080/"
        }
      },
      "outputs": [
        {
          "output_type": "stream",
          "name": "stdout",
          "text": [
            "✅ Great job! Exercise completed successfully.\n"
          ]
        }
      ],
      "source": [
        "# Detect NaN elements within `nan_array` using `np.isnan()` and assign the position to `nan_indices`.\n",
        "@check_numpy_69\n",
        "def numpy_69(nan_array):\n",
        "    # This line is mandatory and should not be removed.\n",
        "    ex_stat_init = True\n",
        "\n",
        "    # BELOW GOES YOUR CODE\n",
        "    nan_indices = np.isnan(nan_array)\n",
        "    # ABOVE GOES YOUR CODE\n",
        "    return {\"nan_indices\": nan_indices}\n",
        "\n",
        "numpy_69()"
      ]
    },
    {
      "cell_type": "code",
      "execution_count": 85,
      "metadata": {
        "id": "5Phxm617qEHm",
        "outputId": "65ade818-1934-4755-ea1f-df386b42d853",
        "colab": {
          "base_uri": "https://localhost:8080/"
        }
      },
      "outputs": [
        {
          "output_type": "stream",
          "name": "stdout",
          "text": [
            "❗ The implementation is incorrect or the exercise was not implemented.\n"
          ]
        }
      ],
      "source": [
        "# Replace `NaN` values in `nan_replace_array` with `specific_value` and create `nan_replaced_array`.\n",
        "@check_numpy_70\n",
        "def numpy_70(nan_replace_array, specific_value):\n",
        "    # This line is mandatory and should not be removed.\n",
        "    ex_stat_init = True\n",
        "\n",
        "    # BELOW GOES YOUR CODE\n",
        "    mask = np.isnan(nan_array)\n",
        "    for i in range (0, len(nan_replace_array)):\n",
        "      if mask[i] == True:\n",
        "        nan_replaced_array[i] = specific_value\n",
        "    # ABOVE GOES YOUR CODE\n",
        "    return {\"nan_replaced_array\": nan_replaced_array}\n",
        "\n",
        "numpy_70()"
      ]
    },
    {
      "cell_type": "code",
      "execution_count": 86,
      "metadata": {
        "id": "5WdKY21eqEHm",
        "outputId": "d652820a-2146-4549-b745-28717b485e88",
        "colab": {
          "base_uri": "https://localhost:8080/"
        }
      },
      "outputs": [
        {
          "output_type": "stream",
          "name": "stdout",
          "text": [
            "✅ Great job! Exercise completed successfully.\n"
          ]
        }
      ],
      "source": [
        "# Construct an upper triangular version of `triangular_matrix` using `np.triu()`.\n",
        "@check_numpy_71\n",
        "def numpy_71(triangular_matrix):\n",
        "    # This line is mandatory and should not be removed.\n",
        "    ex_stat_init = True\n",
        "\n",
        "    # BELOW GOES YOUR CODE\n",
        "    upper_triangular = np.triu(triangular_matrix)\n",
        "    # ABOVE GOES YOUR CODE\n",
        "    return {\"upper_triangular\": upper_triangular}\n",
        "\n",
        "numpy_71()"
      ]
    },
    {
      "cell_type": "code",
      "execution_count": 87,
      "metadata": {
        "id": "gMZEGtFzqEHn",
        "outputId": "90b0ace5-7e8c-432b-b31b-eaec84f91f36",
        "colab": {
          "base_uri": "https://localhost:8080/"
        }
      },
      "outputs": [
        {
          "output_type": "stream",
          "name": "stdout",
          "text": [
            "✅ Great job! Exercise completed successfully.\n"
          ]
        }
      ],
      "source": [
        "# Calculate the `percentile_value` percentile of elements in `percentile_array` and set the result to `percentile_result`.\n",
        "@check_numpy_72\n",
        "def numpy_72(percentile_array, percentile_value):\n",
        "    # This line is mandatory and should not be removed.\n",
        "    ex_stat_init = True\n",
        "\n",
        "    # BELOW GOES YOUR CODE\n",
        "    percentile_result = np.percentile(percentile_array,percentile_value)\n",
        "    # ABOVE GOES YOUR CODE\n",
        "    return {\"percentile_result\": percentile_result}\n",
        "\n",
        "numpy_72()"
      ]
    },
    {
      "cell_type": "code",
      "execution_count": 88,
      "metadata": {
        "id": "6nvZf8uJqEHn",
        "outputId": "0b4c95f1-bd79-49bc-c11d-4aa620236a73",
        "colab": {
          "base_uri": "https://localhost:8080/"
        }
      },
      "outputs": [
        {
          "output_type": "stream",
          "name": "stdout",
          "text": [
            "✅ Great job! Exercise completed successfully.\n"
          ]
        }
      ],
      "source": [
        "# Calculate the trace (sum of diagonals) of the matrix `trace_matrix` using `np.trace()`.\n",
        "@check_numpy_73\n",
        "def numpy_73(trace_matrix):\n",
        "    # This line is mandatory and should not be removed.\n",
        "    ex_stat_init = True\n",
        "\n",
        "    # BELOW GOES YOUR CODE\n",
        "    trace_value = np.trace(trace_matrix)\n",
        "    # ABOVE GOES YOUR CODE\n",
        "    return {\"trace_value\": trace_value}\n",
        "\n",
        "numpy_73()"
      ]
    },
    {
      "cell_type": "code",
      "execution_count": 89,
      "metadata": {
        "id": "yscKnASqqEHn",
        "outputId": "2d3488a1-bf37-47a9-ef85-1a76920b806b",
        "colab": {
          "base_uri": "https://localhost:8080/"
        }
      },
      "outputs": [
        {
          "output_type": "stream",
          "name": "stdout",
          "text": [
            "✅ Great job! Exercise completed successfully.\n"
          ]
        }
      ],
      "source": [
        "# Compute the index of the maximum value in `index_max_array` and store it in `max_index`.\n",
        "@check_numpy_74\n",
        "def numpy_74(index_max_array):\n",
        "    # This line is mandatory and should not be removed.\n",
        "    ex_stat_init = True\n",
        "\n",
        "    # BELOW GOES YOUR CODE\n",
        "    max_index = np.argmax(index_max_array)\n",
        "    # ABOVE GOES YOUR CODE\n",
        "    return {\"max_index\": max_index}\n",
        "\n",
        "numpy_74()"
      ]
    },
    {
      "cell_type": "code",
      "execution_count": 90,
      "metadata": {
        "id": "Dp1qY2g-qEHo",
        "outputId": "bb4855d8-f1d6-4ebd-99d6-92efeb768b14",
        "colab": {
          "base_uri": "https://localhost:8080/"
        }
      },
      "outputs": [
        {
          "output_type": "stream",
          "name": "stdout",
          "text": [
            "✅ Great job! Exercise completed successfully.\n"
          ]
        }
      ],
      "source": [
        "# Find the index of the minimum value in `index_min_array` and assign it to `min_index`.\n",
        "@check_numpy_75\n",
        "def numpy_75(index_min_array):\n",
        "    # This line is mandatory and should not be removed.\n",
        "    ex_stat_init = True\n",
        "\n",
        "    # BELOW GOES YOUR CODE\n",
        "    min_index = np.argmin(index_min_array)\n",
        "    # ABOVE GOES YOUR CODE\n",
        "    return {\"min_index\": min_index}\n",
        "\n",
        "numpy_75()"
      ]
    },
    {
      "cell_type": "code",
      "execution_count": 91,
      "metadata": {
        "id": "imPahLqkqEHo",
        "outputId": "8df84dd7-5833-433e-f265-bf6b5310df2f",
        "colab": {
          "base_uri": "https://localhost:8080/"
        }
      },
      "outputs": [
        {
          "output_type": "stream",
          "name": "stdout",
          "text": [
            "✅ Great job! Exercise completed successfully.\n"
          ]
        }
      ],
      "source": [
        "# Perform an element-wise comparison of `compare_array1` and `compare_array2` using `np.equal()` and assign to `comparison_result`.\n",
        "@check_numpy_76\n",
        "def numpy_76(compare_array1, compare_array2):\n",
        "    # This line is mandatory and should not be removed.\n",
        "    ex_stat_init = True\n",
        "\n",
        "    # BELOW GOES YOUR CODE\n",
        "    comparison_result = np.equal(compare_array1, compare_array2)\n",
        "    # ABOVE GOES YOUR CODE\n",
        "    return {\"comparison_result\": comparison_result}\n",
        "\n",
        "numpy_76()"
      ]
    },
    {
      "cell_type": "code",
      "execution_count": 92,
      "metadata": {
        "id": "dYQVSddOqEHo",
        "outputId": "1cf3f2fb-3e2c-4f8d-87f5-52b59a93e0e4",
        "colab": {
          "base_uri": "https://localhost:8080/"
        }
      },
      "outputs": [
        {
          "output_type": "stream",
          "name": "stdout",
          "text": [
            "✅ Great job! Exercise completed successfully.\n"
          ]
        }
      ],
      "source": [
        "# Perform the matrix multiplication between two arrays `mat_mult_a` and `mat_mult_b` and store the result in `matrix_product`.\n",
        "@check_numpy_77\n",
        "def numpy_77(mat_mult_a, mat_mult_b):\n",
        "    # This line is mandatory and should not be removed.\n",
        "    ex_stat_init = True\n",
        "\n",
        "    # BELOW GOES YOUR CODE\n",
        "    matrix_product = mat_mult_a * mat_mult_b\n",
        "    # ABOVE GOES YOUR CODE\n",
        "    return {\"matrix_product\": matrix_product}\n",
        "\n",
        "numpy_77()"
      ]
    },
    {
      "cell_type": "code",
      "execution_count": 93,
      "metadata": {
        "id": "5gcFrPkkqEHo",
        "outputId": "790724bf-1192-4c9f-da0b-38582134b9be",
        "colab": {
          "base_uri": "https://localhost:8080/"
        }
      },
      "outputs": [
        {
          "output_type": "stream",
          "name": "stdout",
          "text": [
            "✅ Great job! Exercise completed successfully.\n"
          ]
        }
      ],
      "source": [
        "# Extract the diagonal of `diag_matrix` using `np.diag()` and store it in `matrix_diagonal`.\n",
        "@check_numpy_78\n",
        "def numpy_78(diag_matrix):\n",
        "    # This line is mandatory and should not be removed.\n",
        "    ex_stat_init = True\n",
        "\n",
        "    # BELOW GOES YOUR CODE\n",
        "    matrix_diagonal = np.diag(diag_matrix)\n",
        "    # ABOVE GOES YOUR CODE\n",
        "    return {\"matrix_diagonal\": matrix_diagonal}\n",
        "\n",
        "numpy_78()"
      ]
    },
    {
      "cell_type": "code",
      "execution_count": 94,
      "metadata": {
        "id": "QUdXMdLCqEHp",
        "outputId": "f62a76c5-9aee-4a1e-f4e0-0ea899892b2a",
        "colab": {
          "base_uri": "https://localhost:8080/"
        }
      },
      "outputs": [
        {
          "output_type": "stream",
          "name": "stdout",
          "text": [
            "✅ Great job! Exercise completed successfully.\n"
          ]
        }
      ],
      "source": [
        "# Clip `clip_array` such that all its values fall between `min_clip` and `max_clip`, saving the result in `clipped_array`.\n",
        "@check_numpy_79\n",
        "def numpy_79(clip_array, min_clip, max_clip):\n",
        "    # This line is mandatory and should not be removed.\n",
        "    ex_stat_init = True\n",
        "\n",
        "    # BELOW GOES YOUR CODE\n",
        "    clipped_array = np.clip(clip_array, min_clip, max_clip)\n",
        "    # ABOVE GOES YOUR CODE\n",
        "    return {\"clipped_array\": clipped_array}\n",
        "\n",
        "numpy_79()"
      ]
    },
    {
      "cell_type": "code",
      "execution_count": 95,
      "metadata": {
        "id": "Hl_klwuLqEHp",
        "outputId": "90cf49ff-8e7c-4d7f-d321-ed447ce6ecda",
        "colab": {
          "base_uri": "https://localhost:8080/"
        }
      },
      "outputs": [
        {
          "output_type": "stream",
          "name": "stdout",
          "text": [
            "✅ Great job! Exercise completed successfully.\n"
          ]
        }
      ],
      "source": [
        "# Flip `flip_array` along the specified axis `flip_axis` using `np.flip()` and assign to `flipped_array`.\n",
        "@check_numpy_80\n",
        "def numpy_80(flip_array, flip_axis):\n",
        "    # This line is mandatory and should not be removed.\n",
        "    ex_stat_init = True\n",
        "\n",
        "    # BELOW GOES YOUR CODE\n",
        "    flipped_array = np.flip(flip_array, axis = flip_axis)\n",
        "    # ABOVE GOES YOUR CODE\n",
        "    return {\"flipped_array\": flipped_array}\n",
        "\n",
        "numpy_80()"
      ]
    },
    {
      "cell_type": "code",
      "execution_count": 96,
      "metadata": {
        "id": "YBn1TffrqEHp",
        "outputId": "224959db-cc97-4acf-e8c2-43d55844202c",
        "colab": {
          "base_uri": "https://localhost:8080/"
        }
      },
      "outputs": [
        {
          "output_type": "stream",
          "name": "stdout",
          "text": [
            "✅ Great job! Exercise completed successfully.\n"
          ]
        }
      ],
      "source": [
        "# Simulate rolling a six-sided die `num_rolls` times to generate an array `dice_rolls`.\n",
        "@check_numpy_81\n",
        "def numpy_81(num_rolls):\n",
        "    # This line is mandatory and should not be removed.\n",
        "    ex_stat_init = True\n",
        "\n",
        "    # BELOW GOES YOUR CODE\n",
        "    dice_rolls = np.random.randint(1,7,size = num_rolls)\n",
        "    # ABOVE GOES YOUR CODE\n",
        "    return {\"dice_rolls\": dice_rolls}\n",
        "\n",
        "numpy_81()"
      ]
    },
    {
      "cell_type": "code",
      "execution_count": 97,
      "metadata": {
        "id": "JMqhDBmZqEHp",
        "outputId": "7a9dcc30-2781-4cd8-b522-91e1d5d7934b",
        "colab": {
          "base_uri": "https://localhost:8080/"
        }
      },
      "outputs": [
        {
          "output_type": "stream",
          "name": "stdout",
          "text": [
            "✅ Great job! Exercise completed successfully.\n"
          ]
        }
      ],
      "source": [
        "# Given two arrays `logical_array_a` and `logical_array_b`, perform a logical `and` operation and save result in `logical_and_result`.\n",
        "@check_numpy_82\n",
        "def numpy_82(logical_array_a, logical_array_b):\n",
        "    # This line is mandatory and should not be removed.\n",
        "    ex_stat_init = True\n",
        "\n",
        "    # BELOW GOES YOUR CODE\n",
        "    logical_and_result = np.logical_and(logical_array_a,logical_array_b)\n",
        "    # ABOVE GOES YOUR CODE\n",
        "    return {\"logical_and_result\": logical_and_result}\n",
        "\n",
        "numpy_82()"
      ]
    },
    {
      "cell_type": "code",
      "execution_count": 98,
      "metadata": {
        "id": "YzNI5POwqEHp",
        "outputId": "00ac1a20-cd04-4790-de42-1b552f673a8b",
        "colab": {
          "base_uri": "https://localhost:8080/"
        }
      },
      "outputs": [
        {
          "output_type": "stream",
          "name": "stdout",
          "text": [
            "✅ Great job! Exercise completed successfully.\n"
          ]
        }
      ],
      "source": [
        "# Reverse the elements in `reverse_array` and store the result in `reversed_array`.\n",
        "@check_numpy_83\n",
        "def numpy_83(reverse_array):\n",
        "    # This line is mandatory and should not be removed.\n",
        "    ex_stat_init = True\n",
        "\n",
        "    # BELOW GOES YOUR CODE\n",
        "    reversed_array = reverse_array[::1]\n",
        "    # ABOVE GOES YOUR CODE\n",
        "    return {\"reversed_array\": reversed_array}\n",
        "\n",
        "numpy_83()"
      ]
    },
    {
      "cell_type": "code",
      "execution_count": 99,
      "metadata": {
        "id": "hJyg74oGqEHq",
        "outputId": "2402e823-9a53-4007-cb7f-039f3d012b8a",
        "colab": {
          "base_uri": "https://localhost:8080/"
        }
      },
      "outputs": [
        {
          "output_type": "stream",
          "name": "stdout",
          "text": [
            "✅ Great job! Exercise completed successfully.\n"
          ]
        }
      ],
      "source": [
        "# Compute the cross-product of vectors `vector_a` and `vector_b` and store it in `cross_product_result`.\n",
        "@check_numpy_84\n",
        "def numpy_84(vector_a, vector_b):\n",
        "    # This line is mandatory and should not be removed.\n",
        "    ex_stat_init = True\n",
        "\n",
        "    # BELOW GOES YOUR CODE\n",
        "    cross_product_result = np.cross(vector_a, vector_b)\n",
        "    # ABOVE GOES YOUR CODE\n",
        "    return {\"cross_product_result\": cross_product_result}\n",
        "\n",
        "numpy_84()"
      ]
    },
    {
      "cell_type": "code",
      "execution_count": 100,
      "metadata": {
        "id": "EMMy90_8qEHq",
        "outputId": "5c0aebba-bb73-4505-e25f-ac02132a87b1",
        "colab": {
          "base_uri": "https://localhost:8080/"
        }
      },
      "outputs": [
        {
          "output_type": "stream",
          "name": "stdout",
          "text": [
            "✅ Great job! Exercise completed successfully.\n"
          ]
        }
      ],
      "source": [
        "# Use `np.vstack()` to vertically stack `vert_stack_a` and `vert_stack_b` and assign to `vertically_stacked`.\n",
        "@check_numpy_85\n",
        "def numpy_85(vert_stack_a, vert_stack_b):\n",
        "    # This line is mandatory and should not be removed.\n",
        "    ex_stat_init = True\n",
        "\n",
        "    # BELOW GOES YOUR CODE\n",
        "    vertically_stacked = np.vstack((vert_stack_a, vert_stack_b))\n",
        "    # ABOVE GOES YOUR CODE\n",
        "    return {\"vertically_stacked\": vertically_stacked}\n",
        "\n",
        "numpy_85()"
      ]
    },
    {
      "cell_type": "code",
      "execution_count": 101,
      "metadata": {
        "id": "b0Ad7pA2qEHq",
        "outputId": "304f6f4b-bf45-41b5-eeaf-7be26645066a",
        "colab": {
          "base_uri": "https://localhost:8080/"
        }
      },
      "outputs": [
        {
          "output_type": "stream",
          "name": "stdout",
          "text": [
            "✅ Great job! Exercise completed successfully.\n"
          ]
        }
      ],
      "source": [
        "# Create a `checkered_matrix` of size `check_size` with alternating zeros and ones.\n",
        "@check_numpy_86\n",
        "def numpy_86(check_size):\n",
        "    # This line is mandatory and should not be removed.\n",
        "    ex_stat_init = True\n",
        "\n",
        "    # BELOW GOES YOUR CODE\n",
        "    checkered_matrix = np.indices(check_size).sum(axis=0) % 2\n",
        "    # ABOVE GOES YOUR CODE\n",
        "    return {\"checkered_matrix\": checkered_matrix}\n",
        "\n",
        "numpy_86()"
      ]
    },
    {
      "cell_type": "code",
      "execution_count": 102,
      "metadata": {
        "id": "UI351ZApqEHq",
        "outputId": "639a0b65-632f-4db2-c36c-9b27ceec0eae",
        "colab": {
          "base_uri": "https://localhost:8080/"
        }
      },
      "outputs": [
        {
          "output_type": "stream",
          "name": "stdout",
          "text": [
            "✅ Great job! Exercise completed successfully.\n"
          ]
        }
      ],
      "source": [
        "# Determine the rank of `rank_matrix` using `np.linalg.matrix_rank()`.\n",
        "@check_numpy_87\n",
        "def numpy_87(rank_matrix):\n",
        "    # This line is mandatory and should not be removed.\n",
        "    ex_stat_init = True\n",
        "\n",
        "    # BELOW GOES YOUR CODE\n",
        "    matrix_rank = np.linalg.matrix_rank(rank_matrix)\n",
        "    # ABOVE GOES YOUR CODE\n",
        "    return {\"matrix_rank\": matrix_rank}\n",
        "\n",
        "numpy_87()"
      ]
    },
    {
      "cell_type": "code",
      "execution_count": 103,
      "metadata": {
        "id": "iBc7iL76qEHr",
        "outputId": "8159ac75-f489-4c9c-e909-8ba864be48b1",
        "colab": {
          "base_uri": "https://localhost:8080/"
        }
      },
      "outputs": [
        {
          "output_type": "stream",
          "name": "stdout",
          "text": [
            "✅ Great job! Exercise completed successfully.\n"
          ]
        }
      ],
      "source": [
        "# Extract all non-diagonal elements from `non_diag_matrix` and store them in `off_diagonal`.\n",
        "@check_numpy_88\n",
        "def numpy_88(non_diag_matrix):\n",
        "    # This line is mandatory and should not be removed.\n",
        "    ex_stat_init = True\n",
        "\n",
        "    # BELOW GOES YOUR CODE\n",
        "    non_diag_mask = ~np.eye(non_diag_matrix.shape[0], dtype=bool)\n",
        "    off_diagonal = non_diag_matrix[non_diag_mask]\n",
        "    # ABOVE GOES YOUR CODE\n",
        "    return {\"off_diagonal\": off_diagonal}\n",
        "\n",
        "numpy_88()"
      ]
    },
    {
      "cell_type": "code",
      "execution_count": 144,
      "metadata": {
        "id": "0rsx42-3qEHr",
        "outputId": "bc52abc6-d294-49f2-e73d-6a378a982733",
        "colab": {
          "base_uri": "https://localhost:8080/"
        }
      },
      "outputs": [
        {
          "output_type": "stream",
          "name": "stdout",
          "text": [
            "✅ Great job! Exercise completed successfully.\n"
          ]
        }
      ],
      "source": [
        "# Create a boolean mask `boolean_mask` for the array `mask_less_array` with elements less than `threshold_value`.\n",
        "@check_numpy_89\n",
        "def numpy_89(mask_less_array, threshold_value):\n",
        "    # This line is mandatory and should not be removed.\n",
        "    ex_stat_init = True\n",
        "\n",
        "    # BELOW GOES YOUR CODE\n",
        "    boolean_mask = mask_less_array < threshold_value\n",
        "    # ABOVE GOES YOUR CODE\n",
        "    return {\"boolean_mask\": boolean_mask}\n",
        "\n",
        "numpy_89()"
      ]
    },
    {
      "cell_type": "code",
      "execution_count": 141,
      "metadata": {
        "id": "4kOEajeDqEHr",
        "outputId": "dacb6688-e247-4ab0-fc9a-c89fb4237eb1",
        "colab": {
          "base_uri": "https://localhost:8080/"
        }
      },
      "outputs": [
        {
          "output_type": "stream",
          "name": "stdout",
          "text": [
            "✅ Great job! Exercise completed successfully.\n"
          ]
        }
      ],
      "source": [
        "# Compute the cumulative product of `cumprod_array` and assign the result to `cumulative_product`.\n",
        "@check_numpy_90\n",
        "def numpy_90(cumprod_array):\n",
        "    # This line is mandatory and should not be removed.\n",
        "    ex_stat_init = True\n",
        "\n",
        "    # BELOW GOES YOUR CODE\n",
        "    cumulative_product = np.cumprod(cumprod_array)\n",
        "    # ABOVE GOES YOUR CODE\n",
        "    return {\"cumulative_product\": cumulative_product}\n",
        "\n",
        "numpy_90()"
      ]
    },
    {
      "cell_type": "code",
      "execution_count": 148,
      "metadata": {
        "id": "hHAJDwubqEHr",
        "outputId": "6fb0395a-2ce4-4052-a44a-0e42cdb1cf63",
        "colab": {
          "base_uri": "https://localhost:8080/"
        }
      },
      "outputs": [
        {
          "output_type": "stream",
          "name": "stdout",
          "text": [
            "✅ Great job! Exercise completed successfully.\n"
          ]
        }
      ],
      "source": [
        "# Calculate the absolute differences between `abs_diff_a1` and `abs_diff_a2`, storing the result in `absolute_diff`.\n",
        "@check_numpy_91\n",
        "def numpy_91(abs_diff_a1, abs_diff_a2):\n",
        "    # This line is mandatory and should not be removed.\n",
        "    ex_stat_init = True\n",
        "\n",
        "    # BELOW GOES YOUR CODE\n",
        "    absolute_diff = np.abs(abs_diff_a1 - abs_diff_a2)\n",
        "    # ABOVE GOES YOUR CODE\n",
        "    return {\"absolute_diff\": absolute_diff}\n",
        "\n",
        "numpy_91()"
      ]
    },
    {
      "cell_type": "code",
      "execution_count": 152,
      "metadata": {
        "id": "xjDM59zeqEHr",
        "outputId": "dd561f0c-cde5-472d-c0bb-6f1e46d02611",
        "colab": {
          "base_uri": "https://localhost:8080/"
        }
      },
      "outputs": [
        {
          "output_type": "stream",
          "name": "stdout",
          "text": [
            "❗ The implementation is incorrect or the exercise was not implemented.\n"
          ]
        }
      ],
      "source": [
        "# Check if `elem_equal_a` and `elem_equal_b` are element-wise equal and store the boolean result in `elementwise_equality`.\n",
        "@check_numpy_92\n",
        "def numpy_92(elem_equal_a, elem_equal_b):\n",
        "    # This line is mandatory and should not be removed.\n",
        "    ex_stat_init = True\n",
        "\n",
        "    # BELOW GOES YOUR CODE\n",
        "    elementwise_equality = np.equal(elem_equal_a, elem_equal_b)\n",
        "\n",
        "    # ABOVE GOES YOUR CODE\n",
        "    return {\"elementwise_equality\": elementwise_equality}\n",
        "\n",
        "numpy_92()"
      ]
    },
    {
      "cell_type": "code",
      "execution_count": 154,
      "metadata": {
        "id": "13FgtWAoqEHr",
        "outputId": "08fb250f-5477-402b-e769-e9f30b63e685",
        "colab": {
          "base_uri": "https://localhost:8080/"
        }
      },
      "outputs": [
        {
          "output_type": "stream",
          "name": "stdout",
          "text": [
            "✅ Great job! Exercise completed successfully.\n"
          ]
        }
      ],
      "source": [
        "# Create `filtered_within_range` by extracting values from `range_filter_array` that are between `lower_bound` and `upper_bound`.\n",
        "@check_numpy_93\n",
        "def numpy_93(range_filter_array, lower_bound, upper_bound):\n",
        "    # This line is mandatory and should not be removed.\n",
        "    ex_stat_init = True\n",
        "\n",
        "    # BELOW GOES YOUR CODE\n",
        "    filtered_within_range = range_filter_array[(range_filter_array >= lower_bound) & (range_filter_array <= upper_bound)]\n",
        "    # ABOVE GOES YOUR CODE\n",
        "    return {\"filtered_within_range\": filtered_within_range}\n",
        "\n",
        "numpy_93()"
      ]
    },
    {
      "cell_type": "code",
      "execution_count": 155,
      "metadata": {
        "id": "hePWilhlqEHr",
        "outputId": "6b3f0a17-688a-4d66-c7f9-c8c9af6f9b69",
        "colab": {
          "base_uri": "https://localhost:8080/"
        }
      },
      "outputs": [
        {
          "output_type": "stream",
          "name": "stdout",
          "text": [
            "✅ Great job! Exercise completed successfully.\n"
          ]
        }
      ],
      "source": [
        "# Multiply a 1D array `broad_1d` with each row of a 2D array `broad_2d`, and store the result in `broadcast_mult_result`.\n",
        "@check_numpy_94\n",
        "def numpy_94(broad_1d, broad_2d):\n",
        "    # This line is mandatory and should not be removed.\n",
        "    ex_stat_init = True\n",
        "\n",
        "    # BELOW GOES YOUR CODE\n",
        "    broadcast_mult_result = broad_1d * broad_2d\n",
        "    # ABOVE GOES YOUR CODE\n",
        "    return {\"broadcast_mult_result\": broadcast_mult_result}\n",
        "\n",
        "numpy_94()"
      ]
    },
    {
      "cell_type": "code",
      "execution_count": 156,
      "metadata": {
        "id": "kldHaJH5qEHs",
        "outputId": "5cc002d3-103b-4a58-d197-beb4d25f95d9",
        "colab": {
          "base_uri": "https://localhost:8080/"
        }
      },
      "outputs": [
        {
          "output_type": "stream",
          "name": "stdout",
          "text": [
            "✅ Great job! Exercise completed successfully.\n"
          ]
        }
      ],
      "source": [
        "# Multiply a 1D array `broad_1d` with each row of a 2D array `broad_2d`, and store the result in `broadcast_mult_result`.\n",
        "@check_numpy_95\n",
        "def numpy_95(broad_1d, broad_2d):\n",
        "    # This line is mandatory and should not be removed.\n",
        "    ex_stat_init = True\n",
        "\n",
        "    # BELOW GOES YOUR CODE\n",
        "    broadcast_mult_result = broad_1d * broad_2d\n",
        "    # ABOVE GOES YOUR CODE\n",
        "    return {\"broadcast_mult_result\": broadcast_mult_result}\n",
        "\n",
        "numpy_95()"
      ]
    },
    {
      "cell_type": "code",
      "execution_count": 158,
      "metadata": {
        "id": "f95bmgfvqEHs",
        "outputId": "045d85eb-324c-4895-f09f-f9109f20eb2f",
        "colab": {
          "base_uri": "https://localhost:8080/"
        }
      },
      "outputs": [
        {
          "output_type": "stream",
          "name": "stdout",
          "text": [
            "✅ Great job! Exercise completed successfully.\n"
          ]
        }
      ],
      "source": [
        "# Apply logarithm base 10 to `log10_array` using `np.log10()` and save the result in `log10_result`.\n",
        "@check_numpy_96\n",
        "def numpy_96(log10_array):\n",
        "    # This line is mandatory and should not be removed.\n",
        "    ex_stat_init = True\n",
        "\n",
        "    # BELOW GOES YOUR CODE\n",
        "    log10_result = np.log10(log10_array)\n",
        "    # ABOVE GOES YOUR CODE\n",
        "    return {\"log10_result\": log10_result}\n",
        "\n",
        "numpy_96()"
      ]
    },
    {
      "cell_type": "code",
      "execution_count": 159,
      "metadata": {
        "id": "xAot_IdoqEHs",
        "outputId": "2c5bdc95-b263-433c-d9c9-0f6efa43e436",
        "colab": {
          "base_uri": "https://localhost:8080/"
        }
      },
      "outputs": [
        {
          "output_type": "stream",
          "name": "stdout",
          "text": [
            "✅ Great job! Exercise completed successfully.\n"
          ]
        }
      ],
      "source": [
        "# Form a lower triangular matrix from `lower_tri_matrix` using `np.tril()`.\n",
        "@check_numpy_97\n",
        "def numpy_97(lower_tri_matrix):\n",
        "    # This line is mandatory and should not be removed.\n",
        "    ex_stat_init = True\n",
        "\n",
        "    # BELOW GOES YOUR CODE\n",
        "    lower_triangular = np.tril(lower_tri_matrix)\n",
        "    # ABOVE GOES YOUR CODE\n",
        "    return {\"lower_triangular\": lower_triangular}\n",
        "\n",
        "numpy_97()"
      ]
    },
    {
      "cell_type": "code",
      "execution_count": 160,
      "metadata": {
        "id": "Hr63x6GRqEHs",
        "outputId": "1d167183-4182-439a-8f6a-d3d5408d9e09",
        "colab": {
          "base_uri": "https://localhost:8080/"
        }
      },
      "outputs": [
        {
          "output_type": "stream",
          "name": "stdout",
          "text": [
            "✅ Great job! Exercise completed successfully.\n"
          ]
        }
      ],
      "source": [
        "# Determine if there are any `True` elements in `bool_array`, assigning the result to `any_true`.\n",
        "@check_numpy_98\n",
        "def numpy_98(bool_array):\n",
        "    # This line is mandatory and should not be removed.\n",
        "    ex_stat_init = True\n",
        "\n",
        "    # BELOW GOES YOUR CODE\n",
        "    any_true = np.any(bool_array)\n",
        "    # ABOVE GOES YOUR CODE\n",
        "    return {\"any_true\": any_true}\n",
        "\n",
        "numpy_98()"
      ]
    },
    {
      "cell_type": "code",
      "execution_count": 161,
      "metadata": {
        "id": "zirZQce2qEHs",
        "outputId": "3db74191-6b98-4cc5-9f0c-c1aae7fc6ed5",
        "colab": {
          "base_uri": "https://localhost:8080/"
        }
      },
      "outputs": [
        {
          "output_type": "stream",
          "name": "stdout",
          "text": [
            "✅ Great job! Exercise completed successfully.\n"
          ]
        }
      ],
      "source": [
        "# Check if all elements in `bool_check_array` are `True`, and store the result in `all_true`.\n",
        "@check_numpy_99\n",
        "def numpy_99(bool_check_array):\n",
        "    # This line is mandatory and should not be removed.\n",
        "    ex_stat_init = True\n",
        "\n",
        "    # BELOW GOES YOUR CODE\n",
        "    all_true = np.all(bool_check_array)\n",
        "    # ABOVE GOES YOUR CODE\n",
        "    return {\"all_true\": all_true}\n",
        "\n",
        "numpy_99()"
      ]
    },
    {
      "cell_type": "code",
      "execution_count": 163,
      "metadata": {
        "id": "nMKUvLmxqEHs",
        "outputId": "d0a25a9f-fa79-44cf-981c-f8c890c96409",
        "colab": {
          "base_uri": "https://localhost:8080/"
        }
      },
      "outputs": [
        {
          "output_type": "stream",
          "name": "stdout",
          "text": [
            "✅ Great job! Exercise completed successfully.\n"
          ]
        }
      ],
      "source": [
        "# Given two vectors `cos_vector_a` and `cos_vector_b`, calculate the cosine similarity and store it in `cosine_similarity`.\n",
        "@check_numpy_100\n",
        "def numpy_100(cos_vector_a, cos_vector_b):\n",
        "    # This line is mandatory and should not be removed.\n",
        "    ex_stat_init = True\n",
        "\n",
        "    # BELOW GOES YOUR CODE\n",
        "    cosine_similarity = np.dot(cos_vector_a,cos_vector_b)/(np.linalg.norm(cos_vector_a)*np.linalg.norm(cos_vector_b))\n",
        "    # ABOVE GOES YOUR CODE\n",
        "    return {\"cosine_similarity\": cosine_similarity}\n",
        "\n",
        "numpy_100()"
      ]
    },
    {
      "cell_type": "code",
      "execution_count": 176,
      "metadata": {
        "id": "ohXjUPviqEHt",
        "outputId": "c0cef2a9-01cc-439d-b756-65dcca9ca940",
        "colab": {
          "base_uri": "https://localhost:8080/"
        }
      },
      "outputs": [
        {
          "output_type": "stream",
          "name": "stdout",
          "text": [
            "✅ Great job! Exercise completed successfully.\n"
          ]
        }
      ],
      "source": [
        "# Create a function named `reverse_sort_numpy` that takes a NumPy array `arr`, reverses it, removes duplicate elements using NumPy, and returns a sorted version of the array.\n",
        "def reverse_sort_numpy(arr):\n",
        "  reversed_arr = arr[::-1]\n",
        "  unique_arr = np.unique(reversed_arr)\n",
        "  return np.sort(unique_arr)\n",
        "\n",
        "@check_numpy_101\n",
        "def numpy_101():\n",
        "    # This line is mandatory and should not be removed.\n",
        "    ex_stat_init = True\n",
        "\n",
        "    # BELOW GOES YOUR CODE\n",
        "\n",
        "    # ABOVE GOES YOUR CODE\n",
        "    return {\"reverse_sort_numpy\": reverse_sort_numpy}\n",
        "\n",
        "numpy_101()"
      ]
    },
    {
      "cell_type": "code",
      "execution_count": 178,
      "metadata": {
        "id": "rkmHrj19qEHt",
        "outputId": "6b52e3f4-326e-48b8-ba1d-dc73ff6b024c",
        "colab": {
          "base_uri": "https://localhost:8080/"
        }
      },
      "outputs": [
        {
          "output_type": "stream",
          "name": "stdout",
          "text": [
            "✅ Great job! Exercise completed successfully.\n"
          ]
        }
      ],
      "source": [
        "# Write a function `normalize_scale_numpy` that takes a NumPy array `arr` and a range `min_val`, `max_val`.\n",
        "#Use NumPy to normalize the array to the range [0, 1], then scale it to the given range, and return the resulting array.\n",
        "def normalize_scale_numpy(arr, min_val, max_val):\n",
        "  return (arr - arr.min()) / (arr.max() - arr.min()) * (max_val - min_val) + min_val\n",
        "\n",
        "\n",
        "@check_numpy_102\n",
        "def numpy_102():\n",
        "    # This line is mandatory and should not be removed.\n",
        "    ex_stat_init = True\n",
        "\n",
        "    # BELOW GOES YOUR CODE\n",
        "\n",
        "    # ABOVE GOES YOUR CODE\n",
        "    return {\"normalize_scale_numpy\": normalize_scale_numpy}\n",
        "\n",
        "numpy_102()"
      ]
    },
    {
      "cell_type": "code",
      "execution_count": 179,
      "metadata": {
        "id": "SEZw0Nu5qEHt",
        "outputId": "719a1b3e-8a22-4ca6-e6e6-2f4c7e6dec03",
        "colab": {
          "base_uri": "https://localhost:8080/"
        }
      },
      "outputs": [
        {
          "output_type": "stream",
          "name": "stdout",
          "text": [
            "✅ Great job! Exercise completed successfully.\n"
          ]
        }
      ],
      "source": [
        "# Develop a function `filter_average_numpy` that takes a NumPy array `data` and a threshold `limit`.\n",
        "#Use NumPy to filter elements greater than `limit`, compute their average, and return this average.\n",
        "def filter_average_numpy(data, limit):\n",
        "  data = data[data>limit]\n",
        "  return data.mean()\n",
        "@check_numpy_103\n",
        "def numpy_103():\n",
        "    # This line is mandatory and should not be removed.\n",
        "    ex_stat_init = True\n",
        "\n",
        "    # BELOW GOES YOUR CODE\n",
        "\n",
        "    # ABOVE GOES YOUR CODE\n",
        "    return {\"filter_average_numpy\": filter_average_numpy}\n",
        "\n",
        "numpy_103()"
      ]
    },
    {
      "cell_type": "code",
      "execution_count": 180,
      "metadata": {
        "id": "BBJwxQrsqEHt",
        "outputId": "8bae897f-e4e7-42e4-ffe7-970239ef1a2e",
        "colab": {
          "base_uri": "https://localhost:8080/"
        }
      },
      "outputs": [
        {
          "output_type": "stream",
          "name": "stdout",
          "text": [
            "✅ Great job! Exercise completed successfully.\n"
          ]
        }
      ],
      "source": [
        "# Create a function `capitalize_count_numpy` that converts a NumPy array of strings `sentence_array` to capitalize\n",
        "#each string's first letter, counts the number of elements, and returns a tuple containing the modified array and the count.\n",
        "def capitalize_count_numpy(sentence_array):\n",
        "  capitalized_array = np.char.capitalize(sentence_array)\n",
        "  return(capitalized_array, len(capitalized_array))\n",
        "@check_numpy_104\n",
        "def numpy_104():\n",
        "    # This line is mandatory and should not be removed.\n",
        "    ex_stat_init = True\n",
        "\n",
        "    # BELOW GOES YOUR CODE\n",
        "\n",
        "    # ABOVE GOES YOUR CODE\n",
        "    return {\"capitalize_count_numpy\": capitalize_count_numpy}\n",
        "\n",
        "numpy_104()"
      ]
    },
    {
      "cell_type": "code",
      "execution_count": 181,
      "metadata": {
        "id": "HnnpJmzDqEHu",
        "outputId": "fe2e17a1-af54-4754-e60b-22dc9fd64be0",
        "colab": {
          "base_uri": "https://localhost:8080/"
        }
      },
      "outputs": [
        {
          "output_type": "stream",
          "name": "stdout",
          "text": [
            "✅ Great job! Exercise completed successfully.\n"
          ]
        }
      ],
      "source": [
        "# Implement a function `clean_categorize_numpy` that processes a NumPy array of strings `items` by stripping spaces\n",
        "# and converting to lowercase with NumPy operations, classifying them into 'short' if under 5 characters or 'long' otherwise, returning the counts in a dictionary.\n",
        "def clean_categorize_numpy(items):\n",
        "  cleaned_items = np.char.strip(np.char.lower(items))\n",
        "  short_items=np.char.str_len(cleaned_items)<5\n",
        "  long_items = np.char.str_len(cleaned_items) >= 5\n",
        "  counts = {\n",
        "      'short' : np.sum(short_items),\n",
        "      'long' : np.sum(long_items)\n",
        "  }\n",
        "  return counts\n",
        "\n",
        "@check_numpy_105\n",
        "def numpy_105():\n",
        "    # This line is mandatory and should not be removed.\n",
        "    ex_stat_init = True\n",
        "\n",
        "    # BELOW GOES YOUR CODE\n",
        "\n",
        "    # ABOVE GOES YOUR CODE\n",
        "    return {\"clean_categorize_numpy\": clean_categorize_numpy}\n",
        "\n",
        "numpy_105()"
      ]
    },
    {
      "cell_type": "code",
      "execution_count": 190,
      "metadata": {
        "id": "c4K-mkP_qEHu",
        "outputId": "1520a931-2685-470a-b1db-26b36d62d025",
        "colab": {
          "base_uri": "https://localhost:8080/"
        }
      },
      "outputs": [
        {
          "output_type": "stream",
          "name": "stdout",
          "text": [
            "✅ Great job! Exercise completed successfully.\n"
          ]
        }
      ],
      "source": [
        "# Write a function `remove_outliers_stats_numpy` that takes a NumPy array `num_array`,\n",
        "#removes outliers more than two standard deviations from the mean using NumPy, and returns a dictionary with 'mean', 'std', and 'filtered' keys.\n",
        "def remove_outliers_stats_numpy(num_array):\n",
        "  arr_mean = np.mean(num_array)\n",
        "  arr_std = np.std(num_array)\n",
        "  outlier_lower_threshold = arr_mean - 2 * arr_std\n",
        "  outlier_upper_threshold = arr_mean + 2 * arr_std\n",
        "  filtered_arr = num_array[(num_array>=outlier_lower_threshold) & (num_array<=outlier_upper_threshold)  ]\n",
        "  dictionar = {'mean' : arr_mean,\n",
        "               'std': arr_std,\n",
        "               'filtered':filtered_arr}\n",
        "  return dictionar\n",
        "\n",
        "@check_numpy_106\n",
        "def numpy_106():\n",
        "    # This line is mandatory and should not be removed.\n",
        "    ex_stat_init = True\n",
        "\n",
        "    # BELOW GOES YOUR CODE\n",
        "\n",
        "    # ABOVE GOES YOUR CODE\n",
        "    return {\"remove_outliers_stats_numpy\": remove_outliers_stats_numpy}\n",
        "\n",
        "numpy_106()"
      ]
    },
    {
      "cell_type": "code",
      "execution_count": 192,
      "metadata": {
        "id": "ZK7JYycZqEHu",
        "outputId": "2a785fea-cecc-45b2-90a6-5e222eceaef8",
        "colab": {
          "base_uri": "https://localhost:8080/"
        }
      },
      "outputs": [
        {
          "output_type": "stream",
          "name": "stdout",
          "text": [
            "✅ Great job! Exercise completed successfully.\n"
          ]
        }
      ],
      "source": [
        "# Create a function `unique_sorted_numpy` that accepts a NumPy array `word_arr`. Use NumPy to remove duplicates, sort them alphabetically, and return the sorted array.\n",
        "def unique_sorted_numpy(word_arr):\n",
        "  return np.sort(np.unique(word_arr))\n",
        "\n",
        "@check_numpy_107\n",
        "def numpy_107():\n",
        "    # This line is mandatory and should not be removed.\n",
        "    ex_stat_init = True\n",
        "\n",
        "    # BELOW GOES YOUR CODE\n",
        "\n",
        "    # ABOVE GOES YOUR CODE\n",
        "    return {\"unique_sorted_numpy\": unique_sorted_numpy}\n",
        "\n",
        "numpy_107()"
      ]
    },
    {
      "cell_type": "code",
      "execution_count": 194,
      "metadata": {
        "id": "uzkiA_qKqEHu",
        "outputId": "17fafaac-81f5-474a-8d5f-0f6e23f703c3",
        "colab": {
          "base_uri": "https://localhost:8080/"
        }
      },
      "outputs": [
        {
          "output_type": "stream",
          "name": "stdout",
          "text": [
            "✅ Great job! Exercise completed successfully.\n"
          ]
        }
      ],
      "source": [
        "# Implement a function `format_join_numpy` that takes a NumPy array of strings `words_array`, uses NumPy to title case each word,\n",
        "# filter words less than 4 characters, and joins them with a hyphen, returning the final string.\n",
        "def format_join_numpy(words_array):\n",
        "  title_array = np.char.title(words_array)\n",
        "  word_lenghts = np.char.str_len(words_array)\n",
        "  filtered_words = words_array[word_lenghts>=4]\n",
        "  return np.char.replace(words_array, ' ', '-')\n",
        "\n",
        "@check_numpy_108\n",
        "def numpy_108():\n",
        "    # This line is mandatory and should not be removed.\n",
        "    ex_stat_init = True\n",
        "\n",
        "    # BELOW GOES YOUR CODE\n",
        "\n",
        "    # ABOVE GOES YOUR CODE\n",
        "    return {\"format_join_numpy\": format_join_numpy}\n",
        "\n",
        "numpy_108()"
      ]
    },
    {
      "cell_type": "code",
      "execution_count": 196,
      "metadata": {
        "id": "xQzKpKp7qEHu",
        "outputId": "8a1d4cd7-2177-4f77-c0a0-6a725cf41e5a",
        "colab": {
          "base_uri": "https://localhost:8080/"
        }
      },
      "outputs": [
        {
          "output_type": "stream",
          "name": "stdout",
          "text": [
            "✅ Great job! Exercise completed successfully.\n"
          ]
        }
      ],
      "source": [
        "# Write a function `classify_numbers_numpy` that takes a NumPy array `nums`. Use NumPy functions to detect prime numbers and separate them from non-prime numbers, returning both as arrays.\n",
        "\n",
        "def is_prime(n):\n",
        "    if n <= 1:\n",
        "        return False\n",
        "    for i in range(2, int(np.sqrt(n)) + 1):\n",
        "        if n % i == 0:\n",
        "            return False\n",
        "    return True\n",
        "\n",
        "def classify_numbers_numpy(nums):\n",
        "    primes_mask = np.vectorize(is_prime)(nums)\n",
        "    primes = nums[primes_mask]\n",
        "    non_primes = nums[~primes_mask]\n",
        "\n",
        "    return primes, non_primes\n",
        "\n",
        "@check_numpy_109\n",
        "def numpy_109():\n",
        "    # This line is mandatory and should not be removed.\n",
        "    ex_stat_init = True\n",
        "\n",
        "    # BELOW GOES YOUR CODE\n",
        "\n",
        "    # ABOVE GOES YOUR CODE\n",
        "    return {\"classify_numbers_numpy\": classify_numbers_numpy}\n",
        "\n",
        "numpy_109()"
      ]
    },
    {
      "cell_type": "code",
      "execution_count": 197,
      "metadata": {
        "id": "b3s4VaDKqEHv",
        "outputId": "44316d63-fd3e-4339-8e4a-bfe6ab0b349a",
        "colab": {
          "base_uri": "https://localhost:8080/"
        }
      },
      "outputs": [
        {
          "output_type": "stream",
          "name": "stdout",
          "text": [
            "✅ Great job! Exercise completed successfully.\n"
          ]
        }
      ],
      "source": [
        "# Develop a function `flatten_filter_numpy` that accepts a NumPy array of arrays `list_of_arrays`, flattens it using NumPy, filters out numbers less than 10 using NumPy, and returns the filtered flat array.\n",
        "def flatten_filter_numpy(list_of_arrays):\n",
        "  flat_array = list_of_arrays.flatten()\n",
        "  return flat_array[flat_array>10]\n",
        "\n",
        "@check_numpy_110\n",
        "def numpy_110():\n",
        "    # This line is mandatory and should not be removed.\n",
        "    ex_stat_init = True\n",
        "\n",
        "    # BELOW GOES YOUR CODE\n",
        "\n",
        "    # ABOVE GOES YOUR CODE\n",
        "    return {\"flatten_filter_numpy\": flatten_filter_numpy}\n",
        "\n",
        "numpy_110()"
      ]
    },
    {
      "cell_type": "code",
      "execution_count": 199,
      "metadata": {
        "id": "op6727kzqEHv",
        "outputId": "6cbf2153-83bb-40c9-ce50-26f3115368da",
        "colab": {
          "base_uri": "https://localhost:8080/"
        }
      },
      "outputs": [
        {
          "output_type": "stream",
          "name": "stdout",
          "text": [
            "✅ Great job! Exercise completed successfully.\n"
          ]
        }
      ],
      "source": [
        "# Create a function `square_filter_negatives_numpy` that takes a NumPy array `arr`, squares each element using NumPy array operations, removes negative elements, and returns the resulting array.\n",
        "def square_filter_negatives_numpy(arr):\n",
        "  return np.absolute(arr ** 2)\n",
        "@check_numpy_111\n",
        "def numpy_111():\n",
        "    # This line is mandatory and should not be removed.\n",
        "    ex_stat_init = True\n",
        "\n",
        "    # BELOW GOES YOUR CODE\n",
        "\n",
        "    # ABOVE GOES YOUR CODE\n",
        "    return {\"square_filter_negatives_numpy\": square_filter_negatives_numpy}\n",
        "\n",
        "numpy_111()"
      ]
    },
    {
      "cell_type": "code",
      "execution_count": 200,
      "metadata": {
        "id": "6Env6MSXqEHv",
        "outputId": "4e8a6388-1e7b-41d2-ff81-a7145503f550",
        "colab": {
          "base_uri": "https://localhost:8080/"
        }
      },
      "outputs": [
        {
          "output_type": "stream",
          "name": "stdout",
          "text": [
            "✅ Great job! Exercise completed successfully.\n"
          ]
        }
      ],
      "source": [
        "# Implement a function `divide_round_numpy` that takes a NumPy array `values` and a divisor `d`. Divide each element using NumPy, round to two decimal places, and return the resulting array.\n",
        "def divide_round_numpy(values, d):\n",
        "  return np.round(values/d, 2)\n",
        "\n",
        "@check_numpy_112\n",
        "def numpy_112():\n",
        "    # This line is mandatory and should not be removed.\n",
        "    ex_stat_init = True\n",
        "\n",
        "    # BELOW GOES YOUR CODE\n",
        "\n",
        "    # ABOVE GOES YOUR CODE\n",
        "    return {\"divide_round_numpy\": divide_round_numpy}\n",
        "\n",
        "numpy_112()"
      ]
    },
    {
      "cell_type": "code",
      "execution_count": 202,
      "metadata": {
        "id": "9xELhCMHqEHv",
        "outputId": "50fc6773-0244-4508-ddd1-2c9d53a47b75",
        "colab": {
          "base_uri": "https://localhost:8080/"
        }
      },
      "outputs": [
        {
          "output_type": "stream",
          "name": "stdout",
          "text": [
            "❗ The implementation is incorrect or the exercise was not implemented.\n"
          ]
        }
      ],
      "source": [
        "# Write a function `zip_sum_numpy` that takes two NumPy arrays `array1` and `array2`, adds each corresponding element (pair) using NumPy, and returns a new array of these sums.\n",
        "def zip_sum_numpy(array1, array12):\n",
        "  return np.array([x + y for x, y in zip(array1, array2)])\n",
        "\n",
        "@check_numpy_113\n",
        "def numpy_113():\n",
        "    # This line is mandatory and should not be removed.\n",
        "    ex_stat_init = True\n",
        "\n",
        "    # BELOW GOES YOUR CODE\n",
        "\n",
        "    # ABOVE GOES YOUR CODE\n",
        "    return {\"zip_sum_numpy\": zip_sum_numpy}\n",
        "\n",
        "numpy_113()"
      ]
    },
    {
      "cell_type": "code",
      "execution_count": 205,
      "metadata": {
        "id": "wdPZj6m9qEHv",
        "outputId": "f5bc1f9b-0ff8-4122-8c9b-3a4387f13e57",
        "colab": {
          "base_uri": "https://localhost:8080/"
        }
      },
      "outputs": [
        {
          "output_type": "stream",
          "name": "stdout",
          "text": [
            "✅ Great job! Exercise completed successfully.\n"
          ]
        }
      ],
      "source": [
        "# Create a function `binary_classification_numpy` that takes an array `classes` with values `0` and `1`. Use NumPy to count each, calculate their percentages, and return a dictionary with this data.\n",
        "def binary_classification_numpy(classes):\n",
        "    # Count occurrences of 0 and 1\n",
        "    count_zeros = classes[classes == 0]\n",
        "    count_ones = classes[classes == 1]\n",
        "\n",
        "    total_count = len(classes)\n",
        "\n",
        "    percent_zeros = (count_zeros / total_count) * 100\n",
        "    percent_ones = (count_ones / total_count) * 100\n",
        "\n",
        "    return {\n",
        "        'count_zeros': count_zeros,\n",
        "        'count_ones': count_ones,\n",
        "        'percent_zeros': percent_zeros,\n",
        "        'percent_ones': percent_ones\n",
        "    }\n",
        "\n",
        "@check_numpy_114\n",
        "def numpy_114():\n",
        "    # This line is mandatory and should not be removed.\n",
        "    ex_stat_init = True\n",
        "\n",
        "    # BELOW GOES YOUR CODE\n",
        "\n",
        "    # ABOVE GOES YOUR CODE\n",
        "    return {\"binary_classification_numpy\": binary_classification_numpy}\n",
        "\n",
        "numpy_114()"
      ]
    },
    {
      "cell_type": "code",
      "execution_count": 209,
      "metadata": {
        "id": "8JqWXZA6qEHv",
        "outputId": "653f3e46-77be-4006-c248-1138084cf89e",
        "colab": {
          "base_uri": "https://localhost:8080/"
        }
      },
      "outputs": [
        {
          "output_type": "stream",
          "name": "stdout",
          "text": [
            "✅ Great job! Exercise completed successfully.\n"
          ]
        }
      ],
      "source": [
        "from datetime import datetime\n",
        "# Develop a function `parse_convert_dates_numpy` that processes a NumPy array of date strings `date_strs` in `MM/DD/YYYY` format, converting them into `YYYY-MM-DD` using NumPy, sorting them, and returning the sorted array.\n",
        "def parse_convert_dates_numpy(date_strs):\n",
        "  def convert_date_format(date_str):\n",
        "        date_obj = datetime.strptime(date_str, '%m/%d/%Y')\n",
        "        return date_obj.strftime('%Y-%m-%d')\n",
        "  converted_dates = np.vectorize(convert_date_format)(date_strs)\n",
        "  return\n",
        "  np.sort(converted_dates)\n",
        "@check_numpy_115\n",
        "def numpy_115():\n",
        "    # This line is mandatory and should not be removed.\n",
        "    ex_stat_init = True\n",
        "\n",
        "    # BELOW GOES YOUR CODE\n",
        "\n",
        "    # ABOVE GOES YOUR CODE\n",
        "    return {\"parse_convert_dates_numpy\": parse_convert_dates_numpy}\n",
        "\n",
        "numpy_115()"
      ]
    },
    {
      "cell_type": "code",
      "execution_count": 210,
      "metadata": {
        "id": "sIItaMH7qEHv",
        "outputId": "d0946fbc-b689-4f94-eb4a-0893e88d314e",
        "colab": {
          "base_uri": "https://localhost:8080/"
        }
      },
      "outputs": [
        {
          "output_type": "stream",
          "name": "stdout",
          "text": [
            "✅ Great job! Exercise completed successfully.\n"
          ]
        }
      ],
      "source": [
        "# Implement a function `interleave_double_numpy` that accepts two NumPy arrays `arr1` and `arr2`. Use NumPy to interleave elements, double elements from `arr2`, and return the final array.\n",
        "def interleave_double_numpy(arr1, arr2):\n",
        "  arr = np.empty(arr1.size + arr2.size, dtype = arr1.dtype)\n",
        "  arr[::2] = arr1\n",
        "  arr[1::2] == arr2 * 2\n",
        "@check_numpy_116\n",
        "def numpy_116():\n",
        "    # This line is mandatory and should not be removed.\n",
        "    ex_stat_init = True\n",
        "\n",
        "    # BELOW GOES YOUR CODE\n",
        "\n",
        "    # ABOVE GOES YOUR CODE\n",
        "    return {\"interleave_double_numpy\": interleave_double_numpy}\n",
        "\n",
        "numpy_116()"
      ]
    },
    {
      "cell_type": "code",
      "execution_count": 212,
      "metadata": {
        "id": "n_B1WOO4qEHw",
        "outputId": "d0d1b1ea-fb59-4e28-ba3f-5fb22d6b5ff9",
        "colab": {
          "base_uri": "https://localhost:8080/"
        }
      },
      "outputs": [
        {
          "output_type": "stream",
          "name": "stdout",
          "text": [
            "✅ Great job! Exercise completed successfully.\n"
          ]
        }
      ],
      "source": [
        "# Write a function `group_count_numpy` that takes a NumPy array of strings `str_arr`. Use NumPy to group by length, calculate the occurrence count of each length, and return a dictionary with lengths as keys and counts as values.\n",
        "def group_count_numpy(str_arr):\n",
        "  lenghts = np.char.str_len(str_arr)\n",
        "  unique_lenghts, counts = np.unique(lenghts, return_counts = True)\n",
        "  return dict(zip(unique_lenghts, counts))\n",
        "@check_numpy_117\n",
        "def numpy_117():\n",
        "    # This line is mandatory and should not be removed.\n",
        "    ex_stat_init = True\n",
        "\n",
        "    # BELOW GOES YOUR CODE\n",
        "\n",
        "    # ABOVE GOES YOUR CODE\n",
        "    return {\"group_count_numpy\": group_count_numpy}\n",
        "\n",
        "numpy_117()"
      ]
    },
    {
      "cell_type": "code",
      "execution_count": 215,
      "metadata": {
        "id": "VAQRZLacqEHw",
        "outputId": "13dcec10-b4af-4340-ca26-adb38b201323",
        "colab": {
          "base_uri": "https://localhost:8080/"
        }
      },
      "outputs": [
        {
          "output_type": "stream",
          "name": "stdout",
          "text": [
            "✅ Great job! Exercise completed successfully.\n"
          ]
        }
      ],
      "source": [
        "# Create a function `remove_false_combine_numpy` that processes two NumPy boolean arrays `bool_arr1` and `bool_arr2`. Remove `False` entries using NumPy, concatenate them, and return the combined array.\n",
        "def remove_false_combine_numpy(bool_arr1, bool_arr2):\n",
        "  return np.concatenate((bool_arr1[bool_arr1], bool_arr2[bool_arr2]))\n",
        "@check_numpy_118\n",
        "def numpy_118():\n",
        "    # This line is mandatory and should not be removed.\n",
        "    ex_stat_init = True\n",
        "\n",
        "    # BELOW GOES YOUR CODE\n",
        "\n",
        "    # ABOVE GOES YOUR CODE\n",
        "    return {\"remove_false_combine_numpy\": remove_false_combine_numpy}\n",
        "\n",
        "numpy_118()"
      ]
    },
    {
      "cell_type": "code",
      "execution_count": 217,
      "metadata": {
        "id": "5UNZJmshqEHw",
        "outputId": "9eecc6cf-4118-4c49-b86a-a2e9cacb8261",
        "colab": {
          "base_uri": "https://localhost:8080/"
        }
      },
      "outputs": [
        {
          "output_type": "stream",
          "name": "stdout",
          "text": [
            "✅ Great job! Exercise completed successfully.\n"
          ]
        }
      ],
      "source": [
        "# Develop a function `check_palindrome_reverse_numpy` that takes a NumPy array of strings `strs`, uses NumPy to filter out non-alphabetic, checks for palindromes, and returns the strings in reverse order.\n",
        "def check_palindrome_reverse_numpy(strs):\n",
        "  alph_strs = strs[np.char.isalpha(strs)]\n",
        "  is_palindrome = alph_strs == alph_strs[::-1]\n",
        "  return alph_strs[is_palindrome][::-1]\n",
        "@check_numpy_119\n",
        "def numpy_119():\n",
        "    # This line is mandatory and should not be removed.\n",
        "    ex_stat_init = True\n",
        "\n",
        "    # BELOW GOES YOUR CODE\n",
        "\n",
        "    # ABOVE GOES YOUR CODE\n",
        "    return {\"check_palindrome_reverse_numpy\": check_palindrome_reverse_numpy}\n",
        "\n",
        "numpy_119()"
      ]
    },
    {
      "cell_type": "code",
      "execution_count": 218,
      "metadata": {
        "id": "33nkgYjSqEHw",
        "outputId": "69ecceec-e812-4825-be9a-e9b1dad77615",
        "colab": {
          "base_uri": "https://localhost:8080/"
        }
      },
      "outputs": [
        {
          "output_type": "stream",
          "name": "stdout",
          "text": [
            "✅ Great job! Exercise completed successfully.\n"
          ]
        }
      ],
      "source": [
        "# Implement a function `find_duplicates_unique_numpy` that accepts a NumPy array `elements`, identifies duplicates using NumPy, separates from unique elements, and returns a tuple of duplicate and unique arrays.\n",
        "def find_duplicates_unique_numpy(elements):\n",
        "  unique_elements, counts = np.unique(elements, return_counts = True)\n",
        "  duplicates = unique_elements[counts > 1]\n",
        "  unique = unique_elements[counts == 1]\n",
        "  return (duplicates, unique)\n",
        "\n",
        "\n",
        "@check_numpy_120\n",
        "def numpy_120():\n",
        "    # This line is mandatory and should not be removed.\n",
        "    ex_stat_init = True\n",
        "\n",
        "    # BELOW GOES YOUR CODE\n",
        "\n",
        "    # ABOVE GOES YOUR CODE\n",
        "    return {\"find_duplicates_unique_numpy\": find_duplicates_unique_numpy}\n",
        "\n",
        "numpy_120()"
      ]
    },
    {
      "cell_type": "code",
      "execution_count": 220,
      "metadata": {
        "id": "eGF-5fwuqEHw",
        "outputId": "d05ff063-0896-4e04-9d36-73d6fc977c43",
        "colab": {
          "base_uri": "https://localhost:8080/"
        }
      },
      "outputs": [
        {
          "output_type": "stream",
          "name": "stdout",
          "text": [
            "✅ Great job! Exercise completed successfully.\n"
          ]
        }
      ],
      "source": [
        "# Write a function `scale_match_numpy` that takes two NumPy arrays `arr_a` and `arr_b`, scales each by their respective maximum with NumPy, and returns `True` if they are identical, otherwise `False`.\n",
        "def scale_match_numpy(arr_a, arr_b):\n",
        "    scaled_a = arr_a / np.max(arr_a)\n",
        "    scaled_b = arr_b / np.max(arr_b)\n",
        "\n",
        "    return np.array_equal(scaled_a, scaled_b)\n",
        "@check_numpy_121\n",
        "def numpy_121():\n",
        "    # This line is mandatory and should not be removed.\n",
        "    ex_stat_init = True\n",
        "\n",
        "    # BELOW GOES YOUR CODE\n",
        "\n",
        "    # ABOVE GOES YOUR CODE\n",
        "    return {\"scale_match_numpy\": scale_match_numpy}\n",
        "\n",
        "numpy_121()"
      ]
    },
    {
      "cell_type": "code",
      "execution_count": 226,
      "metadata": {
        "id": "h1Qod9N6qEHw",
        "outputId": "730f5132-f80b-47fd-915d-798d26ec4bad",
        "colab": {
          "base_uri": "https://localhost:8080/"
        }
      },
      "outputs": [
        {
          "output_type": "stream",
          "name": "stdout",
          "text": [
            "✅ Great job! Exercise completed successfully.\n"
          ]
        }
      ],
      "source": [
        "# Create a function `calculate_ratios_sort_numpy` that takes two NumPy arrays `numers` and `denoms`. Calculate ratios using NumPy, sort them, and return a new array of sorted ratios.\n",
        "def calculate_ratios_sort_numpy(numers, denoms):\n",
        "    ratios = numers / denoms\n",
        "    return np.sort(ratios)\n",
        "@check_numpy_122\n",
        "def numpy_122():\n",
        "    # This line is mandatory and should not be removed.\n",
        "    ex_stat_init = True\n",
        "\n",
        "    # BELOW GOES YOUR CODE\n",
        "\n",
        "    # ABOVE GOES YOUR CODE\n",
        "    return {\"calculate_ratios_sort_numpy\": calculate_ratios_sort_numpy}\n",
        "\n",
        "numpy_122()"
      ]
    },
    {
      "cell_type": "code",
      "execution_count": 225,
      "metadata": {
        "id": "CJAyijNAqEHx",
        "outputId": "2ab6fc81-3fad-479e-8998-919717a83ee9",
        "colab": {
          "base_uri": "https://localhost:8080/"
        }
      },
      "outputs": [
        {
          "output_type": "stream",
          "name": "stdout",
          "text": [
            "✅ Great job! Exercise completed successfully.\n"
          ]
        }
      ],
      "source": [
        "# Develop a function `decode_filter_numpy` that processes a NumPy array `codes`, decodes using NumPy string operations, filters messages containing digits, and returns the cleaned array.\n",
        "def contains_digit(string):\n",
        "    return any(char.isdigit() for char in string)\n",
        "\n",
        "def decode_filter_numpy(codes):\n",
        "    return codes[~np.vectorize(contains_digit)(codes)]\n",
        "@check_numpy_123\n",
        "def numpy_123():\n",
        "    # This line is mandatory and should not be removed.\n",
        "    ex_stat_init = True\n",
        "\n",
        "    # BELOW GOES YOUR CODE\n",
        "\n",
        "    # ABOVE GOES YOUR CODE\n",
        "    return {\"decode_filter_numpy\": decode_filter_numpy}\n",
        "\n",
        "numpy_123()"
      ]
    },
    {
      "cell_type": "code",
      "execution_count": 222,
      "metadata": {
        "id": "3jSFE7FlqEHx",
        "outputId": "f92dd759-37f8-4fa1-deaf-35cc1d0e5b42",
        "colab": {
          "base_uri": "https://localhost:8080/"
        }
      },
      "outputs": [
        {
          "output_type": "stream",
          "name": "stdout",
          "text": [
            "✅ Great job! Exercise completed successfully.\n"
          ]
        }
      ],
      "source": [
        "# Implement a function `sync_sum_json_numpy` that takes two JSON-like dictionaries `data1` and `data2`, synchronizes with NumPy by common keys, sums values, and returns the resulting dictionary.\n",
        "def sync_sum_json_numpy(data1, data2):\n",
        "    common_keys = np.intersect1d(list(data1.keys()), list(data2.keys()))\n",
        "\n",
        "    result = {key: data1[key] + data2[key] for key in common_keys}\n",
        "\n",
        "    return result\n",
        "@check_numpy_124\n",
        "def numpy_124():\n",
        "    # This line is mandatory and should not be removed.\n",
        "    ex_stat_init = True\n",
        "\n",
        "    # BELOW GOES YOUR CODE\n",
        "\n",
        "    # ABOVE GOES YOUR CODE\n",
        "    return {\"sync_sum_json_numpy\": sync_sum_json_numpy}\n",
        "\n",
        "numpy_124()"
      ]
    },
    {
      "cell_type": "code",
      "execution_count": 219,
      "metadata": {
        "id": "haAj5YCCqEHx",
        "outputId": "39de4cc9-6f5b-49aa-ac69-16bb56bdeba4",
        "colab": {
          "base_uri": "https://localhost:8080/"
        }
      },
      "outputs": [
        {
          "output_type": "stream",
          "name": "stdout",
          "text": [
            "✅ Great job! Exercise completed successfully.\n"
          ]
        }
      ],
      "source": [
        "# Write a function `tokenize_compare_numpy` that takes two NumPy string arrays `para1` and `para2`, tokenizes using NumPy, calculates the set difference with NumPy, and returns a list of unique words in one array.\n",
        "def tokenize_compare_numpy(para1, para2):\n",
        "    tokens1 = np.char.split(para1)\n",
        "    tokens2 = np.char.split(para2)\n",
        "\n",
        "    flat_tokens1 = np.concatenate(tokens1)\n",
        "    flat_tokens2 = np.concatenate(tokens2)\n",
        "\n",
        "    unique_words = np.setdiff1d(flat_tokens1, flat_tokens2)\n",
        "\n",
        "    return unique_words.tolist()\n",
        "@check_numpy_125\n",
        "def numpy_125():\n",
        "    # This line is mandatory and should not be removed.\n",
        "    ex_stat_init = True\n",
        "\n",
        "    # BELOW GOES YOUR CODE\n",
        "\n",
        "    # ABOVE GOES YOUR CODE\n",
        "    return {\"tokenize_compare_numpy\": tokenize_compare_numpy}\n",
        "\n",
        "numpy_125()"
      ]
    }
  ],
  "metadata": {
    "kernelspec": {
      "display_name": "excalibur",
      "language": "python",
      "name": "python3"
    },
    "language_info": {
      "codemirror_mode": {
        "name": "ipython",
        "version": 3
      },
      "file_extension": ".py",
      "mimetype": "text/x-python",
      "name": "python",
      "nbconvert_exporter": "python",
      "pygments_lexer": "ipython3",
      "version": "3.12.5"
    },
    "colab": {
      "provenance": []
    }
  },
  "nbformat": 4,
  "nbformat_minor": 0
}